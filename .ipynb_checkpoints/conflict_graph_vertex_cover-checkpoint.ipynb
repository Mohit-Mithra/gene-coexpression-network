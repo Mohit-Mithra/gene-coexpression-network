{
 "cells": [
  {
   "cell_type": "code",
   "execution_count": 33,
   "metadata": {},
   "outputs": [],
   "source": [
    "import pandas as pd\n",
    "import networkx as nx\n",
    "import pickle\n",
    "import numpy as np\n",
    "from scipy.stats import spearmanr\n",
    "from statsmodels.stats.multitest import multipletests"
   ]
  },
  {
   "cell_type": "code",
   "execution_count": 18,
   "metadata": {},
   "outputs": [
    {
     "data": {
      "text/plain": [
       "array(['Adipose - Subcutaneous', 'Adipose - Visceral (Omentum)',\n",
       "       'Adrenal Gland', 'Artery - Aorta', 'Artery - Coronary',\n",
       "       'Artery - Tibial', 'Bladder', 'Brain - Amygdala',\n",
       "       'Brain - Anterior cingulate cortex (BA24)',\n",
       "       'Brain - Caudate (basal ganglia)', 'Brain - Cerebellar Hemisphere',\n",
       "       'Brain - Cerebellum', 'Brain - Cortex',\n",
       "       'Brain - Frontal Cortex (BA9)', 'Brain - Hippocampus',\n",
       "       'Brain - Hypothalamus',\n",
       "       'Brain - Nucleus accumbens (basal ganglia)',\n",
       "       'Brain - Putamen (basal ganglia)',\n",
       "       'Brain - Spinal cord (cervical c-1)', 'Brain - Substantia nigra',\n",
       "       'Breast - Mammary Tissue', 'Cells - EBV-transformed lymphocytes',\n",
       "       'Cells - Leukemia cell line (CML)',\n",
       "       'Cells - Transformed fibroblasts', 'Cervix - Ectocervix',\n",
       "       'Cervix - Endocervix', 'Colon - Sigmoid', 'Colon - Transverse',\n",
       "       'Esophagus - Gastroesophageal Junction', 'Esophagus - Mucosa',\n",
       "       'Esophagus - Muscularis', 'Fallopian Tube',\n",
       "       'Heart - Atrial Appendage', 'Heart - Left Ventricle',\n",
       "       'Kidney - Cortex', 'Liver', 'Lung', 'Minor Salivary Gland',\n",
       "       'Muscle - Skeletal', 'Nerve - Tibial', 'Ovary', 'Pancreas',\n",
       "       'Pituitary', 'Prostate', 'Skin - Not Sun Exposed (Suprapubic)',\n",
       "       'Skin - Sun Exposed (Lower leg)',\n",
       "       'Small Intestine - Terminal Ileum', 'Spleen', 'Stomach', 'Testis',\n",
       "       'Thyroid', 'Uterus', 'Vagina', 'Whole Blood'], dtype=object)"
      ]
     },
     "execution_count": 18,
     "metadata": {},
     "output_type": "execute_result"
    }
   ],
   "source": [
    "tissue_samples = pd.read_csv('GTEx_v7_Annotations_SampleAttributesDS.txt', sep = '\\t')\n",
    "tissue_list = np.sort(tissue_samples['SMTSD'].unique())\n",
    "tissue_list"
   ]
  },
  {
   "cell_type": "code",
   "execution_count": 20,
   "metadata": {},
   "outputs": [
    {
     "data": {
      "text/plain": [
       "592"
      ]
     },
     "execution_count": 20,
     "metadata": {},
     "output_type": "execute_result"
    }
   ],
   "source": [
    "tissue_samples = pd.read_csv('GTEx_v7_Annotations_SampleAttributesDS.txt', sep = '\\t')\n",
    "tissue_list = tissue_samples.loc[tissue_samples['SMTSD'] == 'Skin - Sun Exposed (Lower leg)']['SAMPID'].to_numpy()\n",
    "len(tissue_list)"
   ]
  },
  {
   "cell_type": "code",
   "execution_count": 21,
   "metadata": {},
   "outputs": [
    {
     "name": "stdout",
     "output_type": "stream",
     "text": [
      "473\n"
     ]
    }
   ],
   "source": [
    "columns_data = pd.read_csv('GTEx_Analysis_2016-01-15_v7_RNASeQCv1.1.8_gene_tpm.gct', index_col = 'Name', sep = '\\t', header = 2 , nrows = 2)\n",
    "available_cols = columns_data.columns\n",
    "common_columns = list(set(available_cols).intersection(tissue_list))\n",
    "#common_columns.append('Name')\n",
    "print(len(common_columns))"
   ]
  },
  {
   "cell_type": "code",
   "execution_count": 22,
   "metadata": {},
   "outputs": [
    {
     "data": {
      "text/plain": [
       "array([    0,     1,     2, ..., 56199, 56200, 56201])"
      ]
     },
     "execution_count": 22,
     "metadata": {},
     "output_type": "execute_result"
    }
   ],
   "source": [
    "variance_dataframe = pd.read_csv('variance_dataset.csv')\n",
    "variance_dataframe.index.values"
   ]
  },
  {
   "cell_type": "code",
   "execution_count": 23,
   "metadata": {},
   "outputs": [
    {
     "data": {
      "text/plain": [
       "56202"
      ]
     },
     "execution_count": 23,
     "metadata": {},
     "output_type": "execute_result"
    }
   ],
   "source": [
    "all_rows = pd.read_csv('GTEx_Analysis_2016-01-15_v7_RNASeQCv1.1.8_gene_tpm.gct', usecols = ['Name'], sep = '\\t', header = 2)\n",
    "len(all_rows)"
   ]
  },
  {
   "cell_type": "code",
   "execution_count": 24,
   "metadata": {},
   "outputs": [
    {
     "name": "stdout",
     "output_type": "stream",
     "text": [
      "103\n"
     ]
    },
    {
     "data": {
      "text/plain": [
       "array([    3,     4,     5, ..., 56198, 56200, 56201])"
      ]
     },
     "execution_count": 24,
     "metadata": {},
     "output_type": "execute_result"
    }
   ],
   "source": [
    "rows = variance_dataframe.nlargest(100, 'Variance').index.values\n",
    "rows = np.append(rows, [0, 1, 2])\n",
    "print(len(rows))\n",
    "skip_rows = np.setdiff1d(all_rows.index.values,rows)\n",
    "skip_rows"
   ]
  },
  {
   "cell_type": "code",
   "execution_count": 25,
   "metadata": {},
   "outputs": [
    {
     "data": {
      "text/html": [
       "<div>\n",
       "<style scoped>\n",
       "    .dataframe tbody tr th:only-of-type {\n",
       "        vertical-align: middle;\n",
       "    }\n",
       "\n",
       "    .dataframe tbody tr th {\n",
       "        vertical-align: top;\n",
       "    }\n",
       "\n",
       "    .dataframe thead th {\n",
       "        text-align: right;\n",
       "    }\n",
       "</style>\n",
       "<table border=\"1\" class=\"dataframe\">\n",
       "  <thead>\n",
       "    <tr style=\"text-align: right;\">\n",
       "      <th></th>\n",
       "      <th>GTEX-111FC-0126-SM-5N9DL</th>\n",
       "      <th>GTEX-111VG-2426-SM-5GZXD</th>\n",
       "      <th>GTEX-1122O-2126-SM-5EGIR</th>\n",
       "      <th>GTEX-1128S-2326-SM-5GZZY</th>\n",
       "      <th>GTEX-113IC-0126-SM-5HL6T</th>\n",
       "      <th>GTEX-113JC-2326-SM-5EQ4E</th>\n",
       "      <th>GTEX-117XS-2726-SM-5N9BL</th>\n",
       "      <th>GTEX-117YW-2626-SM-5GZZH</th>\n",
       "      <th>GTEX-117YX-2326-SM-5H12W</th>\n",
       "      <th>GTEX-1192W-2626-SM-5Q5AF</th>\n",
       "      <th>...</th>\n",
       "      <th>GTEX-ZXG5-0126-SM-5GIEU</th>\n",
       "      <th>GTEX-ZY6K-1826-SM-5GZXK</th>\n",
       "      <th>GTEX-ZYFC-0226-SM-5NQ75</th>\n",
       "      <th>GTEX-ZYFD-0126-SM-5GIDL</th>\n",
       "      <th>GTEX-ZYFG-2326-SM-5E44B</th>\n",
       "      <th>GTEX-ZYT6-0226-SM-5NQ6T</th>\n",
       "      <th>GTEX-ZYW4-0126-SM-5E44A</th>\n",
       "      <th>GTEX-ZYY3-0126-SM-5GZY5</th>\n",
       "      <th>GTEX-ZZ64-1726-SM-5GZYB</th>\n",
       "      <th>GTEX-ZZPT-0226-SM-5E43X</th>\n",
       "    </tr>\n",
       "  </thead>\n",
       "  <tbody>\n",
       "    <tr>\n",
       "      <th>0</th>\n",
       "      <td>0.09002</td>\n",
       "      <td>0.0000</td>\n",
       "      <td>0.1465</td>\n",
       "      <td>0.31420</td>\n",
       "      <td>0.0000</td>\n",
       "      <td>0.00000</td>\n",
       "      <td>0.00000</td>\n",
       "      <td>0.00000</td>\n",
       "      <td>0.00000</td>\n",
       "      <td>0.00000</td>\n",
       "      <td>...</td>\n",
       "      <td>0.00000</td>\n",
       "      <td>0.0000</td>\n",
       "      <td>0.0000</td>\n",
       "      <td>0.00000</td>\n",
       "      <td>0.30190</td>\n",
       "      <td>0.00000</td>\n",
       "      <td>0.0000</td>\n",
       "      <td>0.0000</td>\n",
       "      <td>0.13590</td>\n",
       "      <td>0.24360</td>\n",
       "    </tr>\n",
       "    <tr>\n",
       "      <th>1</th>\n",
       "      <td>0.00000</td>\n",
       "      <td>0.1032</td>\n",
       "      <td>0.1159</td>\n",
       "      <td>0.14500</td>\n",
       "      <td>0.1093</td>\n",
       "      <td>0.08478</td>\n",
       "      <td>0.02074</td>\n",
       "      <td>0.02543</td>\n",
       "      <td>0.17470</td>\n",
       "      <td>0.08499</td>\n",
       "      <td>...</td>\n",
       "      <td>0.05821</td>\n",
       "      <td>0.1211</td>\n",
       "      <td>0.3342</td>\n",
       "      <td>0.06508</td>\n",
       "      <td>0.25870</td>\n",
       "      <td>0.06844</td>\n",
       "      <td>0.1484</td>\n",
       "      <td>0.0320</td>\n",
       "      <td>0.02687</td>\n",
       "      <td>0.12040</td>\n",
       "    </tr>\n",
       "    <tr>\n",
       "      <th>2</th>\n",
       "      <td>0.07520</td>\n",
       "      <td>0.1634</td>\n",
       "      <td>0.0000</td>\n",
       "      <td>0.04375</td>\n",
       "      <td>0.0000</td>\n",
       "      <td>0.00000</td>\n",
       "      <td>0.04380</td>\n",
       "      <td>0.00000</td>\n",
       "      <td>0.05271</td>\n",
       "      <td>0.05984</td>\n",
       "      <td>...</td>\n",
       "      <td>0.00000</td>\n",
       "      <td>0.0000</td>\n",
       "      <td>0.0000</td>\n",
       "      <td>0.20620</td>\n",
       "      <td>0.08406</td>\n",
       "      <td>0.00000</td>\n",
       "      <td>0.0000</td>\n",
       "      <td>0.0676</td>\n",
       "      <td>0.11350</td>\n",
       "      <td>0.05088</td>\n",
       "    </tr>\n",
       "    <tr>\n",
       "      <th>3</th>\n",
       "      <td>66.00000</td>\n",
       "      <td>56.4800</td>\n",
       "      <td>54.2900</td>\n",
       "      <td>79.30000</td>\n",
       "      <td>3583.0000</td>\n",
       "      <td>61.59000</td>\n",
       "      <td>67.39000</td>\n",
       "      <td>57.83000</td>\n",
       "      <td>90.35000</td>\n",
       "      <td>43.30000</td>\n",
       "      <td>...</td>\n",
       "      <td>58.15000</td>\n",
       "      <td>356.1000</td>\n",
       "      <td>3644.0000</td>\n",
       "      <td>62.14000</td>\n",
       "      <td>101.90000</td>\n",
       "      <td>39.72000</td>\n",
       "      <td>46.2500</td>\n",
       "      <td>44.0900</td>\n",
       "      <td>338.50000</td>\n",
       "      <td>121.00000</td>\n",
       "    </tr>\n",
       "    <tr>\n",
       "      <th>4</th>\n",
       "      <td>0.00000</td>\n",
       "      <td>0.0000</td>\n",
       "      <td>0.0000</td>\n",
       "      <td>0.00000</td>\n",
       "      <td>0.0000</td>\n",
       "      <td>0.00000</td>\n",
       "      <td>0.00000</td>\n",
       "      <td>0.00000</td>\n",
       "      <td>0.00000</td>\n",
       "      <td>0.00000</td>\n",
       "      <td>...</td>\n",
       "      <td>0.00000</td>\n",
       "      <td>0.0000</td>\n",
       "      <td>0.0000</td>\n",
       "      <td>0.00000</td>\n",
       "      <td>0.00000</td>\n",
       "      <td>0.00000</td>\n",
       "      <td>0.0000</td>\n",
       "      <td>0.0000</td>\n",
       "      <td>0.17510</td>\n",
       "      <td>0.00000</td>\n",
       "    </tr>\n",
       "    <tr>\n",
       "      <th>...</th>\n",
       "      <td>...</td>\n",
       "      <td>...</td>\n",
       "      <td>...</td>\n",
       "      <td>...</td>\n",
       "      <td>...</td>\n",
       "      <td>...</td>\n",
       "      <td>...</td>\n",
       "      <td>...</td>\n",
       "      <td>...</td>\n",
       "      <td>...</td>\n",
       "      <td>...</td>\n",
       "      <td>...</td>\n",
       "      <td>...</td>\n",
       "      <td>...</td>\n",
       "      <td>...</td>\n",
       "      <td>...</td>\n",
       "      <td>...</td>\n",
       "      <td>...</td>\n",
       "      <td>...</td>\n",
       "      <td>...</td>\n",
       "      <td>...</td>\n",
       "    </tr>\n",
       "    <tr>\n",
       "      <th>98</th>\n",
       "      <td>0.51110</td>\n",
       "      <td>0.7404</td>\n",
       "      <td>0.0000</td>\n",
       "      <td>0.00000</td>\n",
       "      <td>0.0000</td>\n",
       "      <td>0.00000</td>\n",
       "      <td>0.00000</td>\n",
       "      <td>0.73030</td>\n",
       "      <td>0.71650</td>\n",
       "      <td>0.00000</td>\n",
       "      <td>...</td>\n",
       "      <td>1.67100</td>\n",
       "      <td>0.0000</td>\n",
       "      <td>0.0000</td>\n",
       "      <td>1.86900</td>\n",
       "      <td>1.14300</td>\n",
       "      <td>0.00000</td>\n",
       "      <td>0.0000</td>\n",
       "      <td>1.8380</td>\n",
       "      <td>0.00000</td>\n",
       "      <td>2.76600</td>\n",
       "    </tr>\n",
       "    <tr>\n",
       "      <th>99</th>\n",
       "      <td>4574.00000</td>\n",
       "      <td>8746.0000</td>\n",
       "      <td>2226.0000</td>\n",
       "      <td>13840.00000</td>\n",
       "      <td>12440.0000</td>\n",
       "      <td>8464.00000</td>\n",
       "      <td>13200.00000</td>\n",
       "      <td>4802.00000</td>\n",
       "      <td>9458.00000</td>\n",
       "      <td>4116.00000</td>\n",
       "      <td>...</td>\n",
       "      <td>9742.00000</td>\n",
       "      <td>11630.0000</td>\n",
       "      <td>5442.0000</td>\n",
       "      <td>3748.00000</td>\n",
       "      <td>14190.00000</td>\n",
       "      <td>4662.00000</td>\n",
       "      <td>7964.0000</td>\n",
       "      <td>6532.0000</td>\n",
       "      <td>7734.00000</td>\n",
       "      <td>6332.00000</td>\n",
       "    </tr>\n",
       "    <tr>\n",
       "      <th>100</th>\n",
       "      <td>20330.00000</td>\n",
       "      <td>14810.0000</td>\n",
       "      <td>10180.0000</td>\n",
       "      <td>23940.00000</td>\n",
       "      <td>19960.0000</td>\n",
       "      <td>15940.00000</td>\n",
       "      <td>19600.00000</td>\n",
       "      <td>17870.00000</td>\n",
       "      <td>24220.00000</td>\n",
       "      <td>9106.00000</td>\n",
       "      <td>...</td>\n",
       "      <td>15740.00000</td>\n",
       "      <td>22900.0000</td>\n",
       "      <td>19100.0000</td>\n",
       "      <td>16040.00000</td>\n",
       "      <td>35570.00000</td>\n",
       "      <td>14990.00000</td>\n",
       "      <td>14820.0000</td>\n",
       "      <td>14350.0000</td>\n",
       "      <td>19220.00000</td>\n",
       "      <td>27760.00000</td>\n",
       "    </tr>\n",
       "    <tr>\n",
       "      <th>101</th>\n",
       "      <td>0.45690</td>\n",
       "      <td>0.0000</td>\n",
       "      <td>2.2310</td>\n",
       "      <td>2.12700</td>\n",
       "      <td>8.4190</td>\n",
       "      <td>2.90100</td>\n",
       "      <td>5.32200</td>\n",
       "      <td>1.30600</td>\n",
       "      <td>0.64050</td>\n",
       "      <td>0.72720</td>\n",
       "      <td>...</td>\n",
       "      <td>0.00000</td>\n",
       "      <td>0.6215</td>\n",
       "      <td>3.5740</td>\n",
       "      <td>2.92300</td>\n",
       "      <td>4.08600</td>\n",
       "      <td>0.00000</td>\n",
       "      <td>2.2860</td>\n",
       "      <td>4.1070</td>\n",
       "      <td>0.00000</td>\n",
       "      <td>0.00000</td>\n",
       "    </tr>\n",
       "    <tr>\n",
       "      <th>102</th>\n",
       "      <td>2.21700</td>\n",
       "      <td>1.9270</td>\n",
       "      <td>0.0000</td>\n",
       "      <td>1.03200</td>\n",
       "      <td>9.9870</td>\n",
       "      <td>4.22400</td>\n",
       "      <td>11.36000</td>\n",
       "      <td>6.33600</td>\n",
       "      <td>3.10800</td>\n",
       "      <td>1.41200</td>\n",
       "      <td>...</td>\n",
       "      <td>1.45000</td>\n",
       "      <td>2.4130</td>\n",
       "      <td>1.3880</td>\n",
       "      <td>0.00000</td>\n",
       "      <td>2.97400</td>\n",
       "      <td>0.00000</td>\n",
       "      <td>2.9580</td>\n",
       "      <td>2.3920</td>\n",
       "      <td>2.00800</td>\n",
       "      <td>1.80000</td>\n",
       "    </tr>\n",
       "  </tbody>\n",
       "</table>\n",
       "<p>103 rows × 473 columns</p>\n",
       "</div>"
      ],
      "text/plain": [
       "     GTEX-111FC-0126-SM-5N9DL  GTEX-111VG-2426-SM-5GZXD  \\\n",
       "0                     0.09002                    0.0000   \n",
       "1                     0.00000                    0.1032   \n",
       "2                     0.07520                    0.1634   \n",
       "3                    66.00000                   56.4800   \n",
       "4                     0.00000                    0.0000   \n",
       "..                        ...                       ...   \n",
       "98                    0.51110                    0.7404   \n",
       "99                 4574.00000                 8746.0000   \n",
       "100               20330.00000                14810.0000   \n",
       "101                   0.45690                    0.0000   \n",
       "102                   2.21700                    1.9270   \n",
       "\n",
       "     GTEX-1122O-2126-SM-5EGIR  GTEX-1128S-2326-SM-5GZZY  \\\n",
       "0                      0.1465                   0.31420   \n",
       "1                      0.1159                   0.14500   \n",
       "2                      0.0000                   0.04375   \n",
       "3                     54.2900                  79.30000   \n",
       "4                      0.0000                   0.00000   \n",
       "..                        ...                       ...   \n",
       "98                     0.0000                   0.00000   \n",
       "99                  2226.0000               13840.00000   \n",
       "100                10180.0000               23940.00000   \n",
       "101                    2.2310                   2.12700   \n",
       "102                    0.0000                   1.03200   \n",
       "\n",
       "     GTEX-113IC-0126-SM-5HL6T  GTEX-113JC-2326-SM-5EQ4E  \\\n",
       "0                      0.0000                   0.00000   \n",
       "1                      0.1093                   0.08478   \n",
       "2                      0.0000                   0.00000   \n",
       "3                   3583.0000                  61.59000   \n",
       "4                      0.0000                   0.00000   \n",
       "..                        ...                       ...   \n",
       "98                     0.0000                   0.00000   \n",
       "99                 12440.0000                8464.00000   \n",
       "100                19960.0000               15940.00000   \n",
       "101                    8.4190                   2.90100   \n",
       "102                    9.9870                   4.22400   \n",
       "\n",
       "     GTEX-117XS-2726-SM-5N9BL  GTEX-117YW-2626-SM-5GZZH  \\\n",
       "0                     0.00000                   0.00000   \n",
       "1                     0.02074                   0.02543   \n",
       "2                     0.04380                   0.00000   \n",
       "3                    67.39000                  57.83000   \n",
       "4                     0.00000                   0.00000   \n",
       "..                        ...                       ...   \n",
       "98                    0.00000                   0.73030   \n",
       "99                13200.00000                4802.00000   \n",
       "100               19600.00000               17870.00000   \n",
       "101                   5.32200                   1.30600   \n",
       "102                  11.36000                   6.33600   \n",
       "\n",
       "     GTEX-117YX-2326-SM-5H12W  GTEX-1192W-2626-SM-5Q5AF  ...  \\\n",
       "0                     0.00000                   0.00000  ...   \n",
       "1                     0.17470                   0.08499  ...   \n",
       "2                     0.05271                   0.05984  ...   \n",
       "3                    90.35000                  43.30000  ...   \n",
       "4                     0.00000                   0.00000  ...   \n",
       "..                        ...                       ...  ...   \n",
       "98                    0.71650                   0.00000  ...   \n",
       "99                 9458.00000                4116.00000  ...   \n",
       "100               24220.00000                9106.00000  ...   \n",
       "101                   0.64050                   0.72720  ...   \n",
       "102                   3.10800                   1.41200  ...   \n",
       "\n",
       "     GTEX-ZXG5-0126-SM-5GIEU  GTEX-ZY6K-1826-SM-5GZXK  \\\n",
       "0                    0.00000                   0.0000   \n",
       "1                    0.05821                   0.1211   \n",
       "2                    0.00000                   0.0000   \n",
       "3                   58.15000                 356.1000   \n",
       "4                    0.00000                   0.0000   \n",
       "..                       ...                      ...   \n",
       "98                   1.67100                   0.0000   \n",
       "99                9742.00000               11630.0000   \n",
       "100              15740.00000               22900.0000   \n",
       "101                  0.00000                   0.6215   \n",
       "102                  1.45000                   2.4130   \n",
       "\n",
       "     GTEX-ZYFC-0226-SM-5NQ75  GTEX-ZYFD-0126-SM-5GIDL  \\\n",
       "0                     0.0000                  0.00000   \n",
       "1                     0.3342                  0.06508   \n",
       "2                     0.0000                  0.20620   \n",
       "3                  3644.0000                 62.14000   \n",
       "4                     0.0000                  0.00000   \n",
       "..                       ...                      ...   \n",
       "98                    0.0000                  1.86900   \n",
       "99                 5442.0000               3748.00000   \n",
       "100               19100.0000              16040.00000   \n",
       "101                   3.5740                  2.92300   \n",
       "102                   1.3880                  0.00000   \n",
       "\n",
       "     GTEX-ZYFG-2326-SM-5E44B  GTEX-ZYT6-0226-SM-5NQ6T  \\\n",
       "0                    0.30190                  0.00000   \n",
       "1                    0.25870                  0.06844   \n",
       "2                    0.08406                  0.00000   \n",
       "3                  101.90000                 39.72000   \n",
       "4                    0.00000                  0.00000   \n",
       "..                       ...                      ...   \n",
       "98                   1.14300                  0.00000   \n",
       "99               14190.00000               4662.00000   \n",
       "100              35570.00000              14990.00000   \n",
       "101                  4.08600                  0.00000   \n",
       "102                  2.97400                  0.00000   \n",
       "\n",
       "     GTEX-ZYW4-0126-SM-5E44A  GTEX-ZYY3-0126-SM-5GZY5  \\\n",
       "0                     0.0000                   0.0000   \n",
       "1                     0.1484                   0.0320   \n",
       "2                     0.0000                   0.0676   \n",
       "3                    46.2500                  44.0900   \n",
       "4                     0.0000                   0.0000   \n",
       "..                       ...                      ...   \n",
       "98                    0.0000                   1.8380   \n",
       "99                 7964.0000                6532.0000   \n",
       "100               14820.0000               14350.0000   \n",
       "101                   2.2860                   4.1070   \n",
       "102                   2.9580                   2.3920   \n",
       "\n",
       "     GTEX-ZZ64-1726-SM-5GZYB  GTEX-ZZPT-0226-SM-5E43X  \n",
       "0                    0.13590                  0.24360  \n",
       "1                    0.02687                  0.12040  \n",
       "2                    0.11350                  0.05088  \n",
       "3                  338.50000                121.00000  \n",
       "4                    0.17510                  0.00000  \n",
       "..                       ...                      ...  \n",
       "98                   0.00000                  2.76600  \n",
       "99                7734.00000               6332.00000  \n",
       "100              19220.00000              27760.00000  \n",
       "101                  0.00000                  0.00000  \n",
       "102                  2.00800                  1.80000  \n",
       "\n",
       "[103 rows x 473 columns]"
      ]
     },
     "execution_count": 25,
     "metadata": {},
     "output_type": "execute_result"
    }
   ],
   "source": [
    "def logic(index):\n",
    "    if index in skip_rows:\n",
    "        return True\n",
    "    return False\n",
    "\n",
    "small_dataset = pd.read_csv('GTEx_Analysis_2016-01-15_v7_RNASeQCv1.1.8_gene_tpm.gct', usecols = common_columns, sep = '\\t', header = 2 , skiprows= lambda x: logic(x))\n",
    "small_dataset"
   ]
  },
  {
   "cell_type": "code",
   "execution_count": 26,
   "metadata": {},
   "outputs": [],
   "source": [
    "dataset = small_dataset"
   ]
  },
  {
   "cell_type": "code",
   "execution_count": 27,
   "metadata": {},
   "outputs": [],
   "source": [
    "def get_bootstrapped_dataset():\n",
    "    \n",
    "    individuals = dataset.index.values\n",
    "    bootstrapped_individuals = np.random.choice(individuals, len(individuals), replace=True)  #Get bootstrapped samples\n",
    "    #print(\"bootstrapped_individuals\")\n",
    "    #print(bootstrapped_individuals)\n",
    "    p_values = []\n",
    "    corr_values = []\n",
    "\n",
    "    #count = 0\n",
    "    for i in bootstrapped_individuals:\n",
    "        for j in bootstrapped_individuals:\n",
    "        \n",
    "            #count = count + 1\n",
    "            ##if(count%20000 == 0):\n",
    "            #    print(count)\n",
    "\n",
    "            gene1 = dataset.loc[i].values\n",
    "            gene2 = dataset.loc[j].values\n",
    "\n",
    "            corr, p = spearmanr(gene1, gene2) #calculated spearman correlation for each pair\n",
    "\n",
    "            corr_values.append(corr)\n",
    "            p_values.append(p)\n",
    "\n",
    "    results = multipletests(p_values, alpha = 0.05, method='fdr_bh')\n",
    "    reject = results[0]\n",
    "    p_values_corrected = results[1]\n",
    "    #print(\"p value entries\")\n",
    "    #print(np.sum(np.array(p_values_corrected > 0.1)))\n",
    "    G = {}\n",
    "\n",
    "    for i in range(len(dataset)):\n",
    "        temp = []\n",
    "        for j in range(len(dataset)):\n",
    "            if p_values_corrected[i*len(dataset) + j] > 0.1:  #If its greater than cutoff \n",
    "                temp.append(dataset.index[j])\n",
    "\n",
    "        G.update({dataset.index[i] : temp})\n",
    "    \n",
    "    #print(\"graph array\")\n",
    "    #print(G)\n",
    "    return G"
   ]
  },
  {
   "cell_type": "code",
   "execution_count": 28,
   "metadata": {
    "scrolled": false
   },
   "outputs": [],
   "source": [
    "def get_bit_vector():\n",
    "    \n",
    "    graph_dict = get_bootstrapped_dataset()\n",
    "    \n",
    "    graph_nodes = np.array(list(graph_dict.keys()))\n",
    "    G = nx.Graph()\n",
    "\n",
    "    for node in graph_nodes:\n",
    "        connected_edges = np.array(graph_dict[node])\n",
    "\n",
    "        for other_node in connected_edges:\n",
    "            G.add_edge(node, other_node)    #Make networkx graph\n",
    "    \n",
    "    graph_nodes = list(G.nodes)  \n",
    "\n",
    "    bit_vector = []\n",
    "    for node1 in dataset.index.values:\n",
    "        for node2 in dataset.index.values:\n",
    "            if node1 != node2:\n",
    "                if(G.has_edge(node1, node2)):  #If edge exists in coexpression network, make it 1\n",
    "                    bit_vector.append(1)\n",
    "                else:\n",
    "                    bit_vector.append(0)    #If edge it does not exist in coexpression network, make it 0\n",
    "\n",
    "    return bit_vector"
   ]
  },
  {
   "cell_type": "code",
   "execution_count": 29,
   "metadata": {},
   "outputs": [],
   "source": [
    "def get_bit_matrix():\n",
    "    \n",
    "    B = 5000\n",
    "    matrix = []\n",
    "    for i in range(B):\n",
    "        if(i % 200 == 0):\n",
    "            print('B' + ' is ' + str(i))       #Get the binary string for B values and make the matrix\n",
    "        bit_vector = get_bit_vector()\n",
    "        #print('len of bit vector' + ' is ' + str(len(bit_vector)))\n",
    "        matrix.append(bit_vector)\n",
    "        \n",
    "    return matrix"
   ]
  },
  {
   "cell_type": "code",
   "execution_count": 30,
   "metadata": {
    "scrolled": true
   },
   "outputs": [
    {
     "name": "stdout",
     "output_type": "stream",
     "text": [
      "B is 0\n",
      "B is 200\n",
      "B is 400\n",
      "B is 600\n",
      "B is 800\n",
      "B is 1000\n",
      "B is 1200\n",
      "B is 1400\n",
      "B is 1600\n",
      "B is 1800\n",
      "B is 2000\n",
      "B is 2200\n",
      "B is 2400\n",
      "B is 2600\n",
      "B is 2800\n",
      "B is 3000\n",
      "B is 3200\n",
      "B is 3400\n",
      "B is 3600\n",
      "B is 3800\n",
      "B is 4000\n",
      "B is 4200\n",
      "B is 4400\n",
      "B is 4600\n",
      "B is 4800\n",
      "Time spent 46705.57075381279\n"
     ]
    }
   ],
   "source": [
    "import time\n",
    "start_time = time.time()\n",
    "matrix = get_bit_matrix()\n",
    "end_time = time.time()\n",
    "print(\"Time spent \" + str(end_time - start_time))"
   ]
  },
  {
   "cell_type": "code",
   "execution_count": 33,
   "metadata": {
    "scrolled": true
   },
   "outputs": [
    {
     "ename": "AttributeError",
     "evalue": "'list' object has no attribute 'shape'",
     "output_type": "error",
     "traceback": [
      "\u001b[0;31m---------------------------------------------------------------------------\u001b[0m",
      "\u001b[0;31mAttributeError\u001b[0m                            Traceback (most recent call last)",
      "\u001b[0;32m<ipython-input-33-9db453e4c47e>\u001b[0m in \u001b[0;36m<module>\u001b[0;34m\u001b[0m\n\u001b[0;32m----> 1\u001b[0;31m \u001b[0mmatrix\u001b[0m\u001b[0;34m.\u001b[0m\u001b[0mshape\u001b[0m\u001b[0;34m\u001b[0m\u001b[0;34m\u001b[0m\u001b[0m\n\u001b[0m",
      "\u001b[0;31mAttributeError\u001b[0m: 'list' object has no attribute 'shape'"
     ]
    }
   ],
   "source": [
    "matrix.shape"
   ]
  },
  {
   "cell_type": "code",
   "execution_count": 31,
   "metadata": {
    "scrolled": true
   },
   "outputs": [
    {
     "data": {
      "text/plain": [
       "(5000, 10506)"
      ]
     },
     "execution_count": 31,
     "metadata": {},
     "output_type": "execute_result"
    }
   ],
   "source": [
    "matrix2 = np.array(matrix)\n",
    "matrix2.shape"
   ]
  },
  {
   "cell_type": "code",
   "execution_count": 32,
   "metadata": {},
   "outputs": [
    {
     "name": "stdout",
     "output_type": "stream",
     "text": [
      "(5000, 10506)\n"
     ]
    }
   ],
   "source": [
    "from numpy import asarray\n",
    "from numpy import savetxt\n",
    "from numpy import loadtxt\n",
    "\n",
    "matrix_array = asarray(matrix2)\n",
    "savetxt('bootstrapped_data_Skin_Sun_Exposed.csv', matrix_array, delimiter=',')\n",
    "matrix_array = loadtxt('bootstrapped_data_Skin_Sun_Exposed.csv', delimiter=',')\n",
    "print(matrix_array.shape)"
   ]
  },
  {
   "cell_type": "code",
   "execution_count": 37,
   "metadata": {},
   "outputs": [
    {
     "name": "stdout",
     "output_type": "stream",
     "text": [
      "(6000, 10506)\n",
      "(5000, 10506)\n"
     ]
    }
   ],
   "source": [
    "from numpy import asarray\n",
    "from numpy import savetxt\n",
    "from numpy import loadtxt\n",
    "\n",
    "matrix2 = loadtxt('bootstrapped_data_muscleskeleton.csv', delimiter=',')\n",
    "print(matrix2.shape)\n",
    "savetxt('bootstrapped_data_muscleskeleton.csv', matrix2[:5000, :], delimiter=',')\n",
    "matrix2 = loadtxt('bootstrapped_data_muscleskeleton.csv', delimiter=',')\n",
    "print(matrix2.shape)"
   ]
  },
  {
   "cell_type": "code",
   "execution_count": null,
   "metadata": {},
   "outputs": [
    {
     "name": "stdout",
     "output_type": "stream",
     "text": [
      "(500, 10506)\n",
      "0\n",
      "1000\n",
      "2000\n"
     ]
    }
   ],
   "source": [
    "B = 500\n",
    "verify_G = nx.Graph()\n",
    "conflict_G = nx.Graph()\n",
    "matrix = matrix2[:500, ]\n",
    "print(matrix.shape)\n",
    "for i in range(matrix.shape[1]):\n",
    "    \n",
    "    if(i%1000 == 0):\n",
    "        print(i)\n",
    "    #temp = []\n",
    "    for j in range(matrix.shape[1]):\n",
    "        \n",
    "        gamets = [0,0,0,0]\n",
    "        for string in range(matrix.shape[0]):\n",
    "            \n",
    "            if(matrix[string][i] == 0 and matrix[string][j] == 1):\n",
    "                gamets[1] = 1\n",
    "            if(matrix[string][i] == 1 and matrix[string][j] == 0):\n",
    "                gamets[2] = 1\n",
    "            if(matrix[string][i] == 1 and matrix[string][j] == 1):\n",
    "                gamets[3] = 1\n",
    "                \n",
    "            if(np.sum(gamets) == 3):\n",
    "                conflict_G.add_edge(i, j)\n",
    "                break\n",
    "        \n"
   ]
  },
  {
   "cell_type": "code",
   "execution_count": 22,
   "metadata": {},
   "outputs": [
    {
     "name": "stdout",
     "output_type": "stream",
     "text": [
      "2756\n",
      "3795012\n"
     ]
    }
   ],
   "source": [
    "print(conflict_G.number_of_nodes())\n",
    "print(conflict_G.number_of_edges())\n"
   ]
  },
  {
   "cell_type": "markdown",
   "metadata": {},
   "source": [
    "# Calculating cardinalty cover vertex"
   ]
  },
  {
   "cell_type": "code",
   "execution_count": 23,
   "metadata": {},
   "outputs": [
    {
     "name": "stdout",
     "output_type": "stream",
     "text": [
      "2756\n"
     ]
    }
   ],
   "source": [
    "graph_nodes = list(conflict_G.nodes())\n",
    "\n",
    "visited = {}\n",
    "for node in graph_nodes:\n",
    "    visited.update({node : False})\n",
    "\n",
    "\n",
    "for u in graph_nodes:    \n",
    "    #print(conflict_G.edges(u))\n",
    "    if visited[u] == False:\n",
    "        \n",
    "        for v in conflict_G.edges(u):\n",
    "            if visited[v[1]] == False:\n",
    "                #print((u,v[1]), end = \" \")\n",
    "                visited[v[1]] = True\n",
    "                visited[u] = True\n",
    "                break\n",
    "                \n",
    "\n",
    "cardinality_vertex_cover = []\n",
    "for node in graph_nodes:\n",
    "    if visited[node]:\n",
    "        cardinality_vertex_cover.append(node)\n",
    "        \n",
    "print(len(cardinality_vertex_cover))"
   ]
  },
  {
   "cell_type": "code",
   "execution_count": null,
   "metadata": {},
   "outputs": [],
   "source": []
  },
  {
   "cell_type": "code",
   "execution_count": null,
   "metadata": {},
   "outputs": [],
   "source": []
  }
 ],
 "metadata": {
  "kernelspec": {
   "display_name": "Python 3",
   "language": "python",
   "name": "python3"
  },
  "language_info": {
   "codemirror_mode": {
    "name": "ipython",
    "version": 3
   },
   "file_extension": ".py",
   "mimetype": "text/x-python",
   "name": "python",
   "nbconvert_exporter": "python",
   "pygments_lexer": "ipython3",
   "version": "3.7.3"
  }
 },
 "nbformat": 4,
 "nbformat_minor": 2
}
