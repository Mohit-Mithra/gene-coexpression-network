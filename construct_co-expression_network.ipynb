{
 "cells": [
  {
   "cell_type": "code",
   "execution_count": 2,
   "metadata": {},
   "outputs": [],
   "source": [
    "from cmapPy.pandasGEXpress.parse_gct import parse\n",
    "from cmapPy.pandasGEXpress.write_gct import write\n",
    "\n",
    "import numpy as np"
   ]
  },
  {
   "cell_type": "code",
   "execution_count": 61,
   "metadata": {},
   "outputs": [],
   "source": [
    "data = parse('GTEx_Analysis_2017-06-05_v8_RNASeQCv1.1.9_gene_median_tpm.gct', ridx=[i for i in range(10)])\n",
    "data.row_metadata_df.dropna(inplace=True)\n",
    "data.data_df = data.data_df.loc[data.row_metadata_df.index]\n",
    "dataset = data.data_df\n",
    "#print(dataset)"
   ]
  },
  {
   "cell_type": "code",
   "execution_count": 65,
   "metadata": {},
   "outputs": [
    {
     "name": "stdout",
     "output_type": "stream",
     "text": [
      "8\n"
     ]
    }
   ],
   "source": [
    "#print(dataset)\n",
    "for i in dataset.index.values:\n",
    "    #print(np.sum(dataset.loc[i].values))\n",
    "    if np.sum(dataset.loc[i].values) == 0.0:\n",
    "        dataset = dataset.drop(i, axis=0)\n",
    "            \n",
    "print(len(dataset))"
   ]
  },
  {
   "cell_type": "code",
   "execution_count": 4,
   "metadata": {
    "scrolled": true
   },
   "outputs": [
    {
     "data": {
      "text/plain": [
       "SpearmanrResult(correlation=0.8207826816681233, pvalue=0.08858700531354381)"
      ]
     },
     "execution_count": 4,
     "metadata": {},
     "output_type": "execute_result"
    }
   ],
   "source": [
    "from scipy.stats import spearmanr\n",
    "spearmanr([1,2,3,4,5],[5,6,7,8,7])"
   ]
  },
  {
   "cell_type": "code",
   "execution_count": 70,
   "metadata": {},
   "outputs": [
    {
     "name": "stdout",
     "output_type": "stream",
     "text": [
      "[0.9999999999999999, 0.09253855373995462, 0.3446802622548103, -0.13463691189178048, 0.09292901350684094, -0.09263747636220304, 0.23370562811085022, 0.21592329205989405, 0.09253855373995461, 0.9999999999999999, -0.41768850320172923, -0.5885284815896665, -0.5386076451959558, -0.5889651165583987, 0.3381330018074885, 0.5837621497998856, 0.3446802622548103, -0.41768850320172923, 0.9999999999999998, 0.4923376008084352, 0.5909032345143422, 0.5074497711295416, 0.17230952362785962, -0.18642689557044184, -0.13463691189178048, -0.5885284815896664, 0.49233760080843525, 1.0, 0.8112044389417307, 0.8545699999756037, -0.026884234120720107, -0.544353706444758, 0.09292901350684094, -0.5386076451959558, 0.5909032345143422, 0.8112044389417307, 1.0, 0.8994564844475577, 0.0026812387001651783, -0.4632768338999824, -0.09263747636220304, -0.5889651165583987, 0.5074497711295416, 0.8545699999756036, 0.8994564844475577, 1.0, -0.04982913399961495, -0.5662230880861729, 0.2337056281108502, 0.33813300180748845, 0.1723095236278596, -0.026884234120720107, 0.0026812387001651783, -0.04982913399961495, 0.9999999999999999, 0.5753791688963298, 0.21592329205989408, 0.5837621497998856, -0.18642689557044181, -0.544353706444758, -0.46327683389998237, -0.5662230880861729, 0.5753791688963298, 0.9999999999999999]\n",
      "[0.0, 0.5057081131443315, 0.010699994562024015, 0.33172071022021754, 0.503906515277598, 0.5052513688757894, 0.0889737101698599, 0.11684839198273449, 0.5057081131443315, 0.0, 0.0016747768226358045, 2.8622854640100237e-06, 2.6536323128064614e-05, 2.802433504202017e-06, 0.012392743884828528, 3.597754397658383e-06, 0.010699994562024015, 0.0016747768226358045, 0.0, 0.0001558634988143344, 2.55056117028801e-06, 8.989024320158785e-05, 0.21279115203057133, 0.1770916228072331, 0.33172071022021754, 2.8622854640100334e-06, 0.00015586349881433368, 0.0, 1.0270081964301464e-13, 2.0441272448790925e-16, 0.8469823441108354, 2.0907517725198143e-05, 0.503906515277598, 2.6536323128064614e-05, 2.55056117028801e-06, 1.0270081964301464e-13, 0.0, 2.4635430631610945e-20, 0.9846480562840128, 0.00041908238806432035, 0.5052513688757894, 2.802433504202017e-06, 8.989024320158785e-05, 2.0441272448791368e-16, 2.4635430631610945e-20, 0.0, 0.7204762512366698, 8.09675730004586e-06, 0.08897371016986004, 0.012392743884828557, 0.21279115203057147, 0.8469823441108354, 0.9846480562840128, 0.7204762512366698, 0.0, 5.3326750583311405e-06, 0.11684839198273442, 3.597754397658383e-06, 0.17709162280723326, 2.0907517725198143e-05, 0.0004190823880643211, 8.09675730004586e-06, 5.3326750583311405e-06, 0.0]\n"
     ]
    }
   ],
   "source": [
    "p_values = []\n",
    "corr_values = []\n",
    "\n",
    "for i in dataset.index.values:\n",
    "    for j in dataset.index.values:\n",
    "        gene1 = dataset.loc[i].values\n",
    "        gene2 = dataset.loc[j].values\n",
    "        \n",
    "        corr, p = spearmanr(gene1, gene2)\n",
    "        \n",
    "        corr_values.append(corr)\n",
    "        p_values.append(p)\n",
    "\n",
    "print(corr_values)\n",
    "print(p_values)"
   ]
  },
  {
   "cell_type": "code",
   "execution_count": 30,
   "metadata": {
    "scrolled": true
   },
   "outputs": [
    {
     "name": "stderr",
     "output_type": "stream",
     "text": [
      "/home/mohit/anaconda3/lib/python3.7/site-packages/numpy/lib/function_base.py:2534: RuntimeWarning: invalid value encountered in true_divide\n",
      "  c /= stddev[:, None]\n",
      "/home/mohit/anaconda3/lib/python3.7/site-packages/numpy/lib/function_base.py:2535: RuntimeWarning: invalid value encountered in true_divide\n",
      "  c /= stddev[None, :]\n",
      "/home/mohit/anaconda3/lib/python3.7/site-packages/scipy/stats/_distn_infrastructure.py:901: RuntimeWarning: invalid value encountered in greater\n",
      "  return (a < x) & (x < b)\n",
      "/home/mohit/anaconda3/lib/python3.7/site-packages/scipy/stats/_distn_infrastructure.py:901: RuntimeWarning: invalid value encountered in less\n",
      "  return (a < x) & (x < b)\n",
      "/home/mohit/anaconda3/lib/python3.7/site-packages/scipy/stats/_distn_infrastructure.py:1892: RuntimeWarning: invalid value encountered in less_equal\n",
      "  cond2 = cond0 & (x <= _a)\n"
     ]
    },
    {
     "data": {
      "text/plain": [
       "SpearmanrResult(correlation=nan, pvalue=nan)"
      ]
     },
     "execution_count": 30,
     "metadata": {},
     "output_type": "execute_result"
    }
   ],
   "source": []
  },
  {
   "cell_type": "code",
   "execution_count": 72,
   "metadata": {},
   "outputs": [],
   "source": [
    "from statsmodels.stats.multitest import multipletests"
   ]
  },
  {
   "cell_type": "code",
   "execution_count": 80,
   "metadata": {},
   "outputs": [],
   "source": [
    "results = multipletests(p_values, alpha = 0.05, method='fdr_bh')\n",
    "reject = results[0]\n",
    "p_values_corrected = results[1]"
   ]
  },
  {
   "cell_type": "code",
   "execution_count": 82,
   "metadata": {},
   "outputs": [
    {
     "data": {
      "text/plain": [
       "array([0.00000000e+00, 5.58022746e-01, 1.71199913e-02, 4.08271643e-01,\n",
       "       5.58022746e-01, 5.58022746e-01, 1.29416306e-01, 1.62571676e-01,\n",
       "       5.58022746e-01, 0.00000000e+00, 2.82067675e-03, 9.15931348e-06,\n",
       "       5.66108227e-05, 9.15931348e-06, 1.88841812e-02, 1.04661946e-05,\n",
       "       1.71199913e-02, 2.82067675e-03, 0.00000000e+00, 2.93390115e-04,\n",
       "       9.15931348e-06, 1.79780486e-04, 2.72372675e-01, 2.36122164e-01,\n",
       "       4.08271643e-01, 9.15931348e-06, 2.93390115e-04, 0.00000000e+00,\n",
       "       4.69489461e-13, 1.09020120e-15, 8.74304355e-01, 4.77886119e-05,\n",
       "       5.58022746e-01, 5.66108227e-05, 9.15931348e-06, 4.69489461e-13,\n",
       "       0.00000000e+00, 1.57666756e-19, 9.84648056e-01, 7.45035357e-04,\n",
       "       5.58022746e-01, 9.15931348e-06, 1.79780486e-04, 1.09020120e-15,\n",
       "       1.57666756e-19, 0.00000000e+00, 7.68508001e-01, 1.99304795e-05,\n",
       "       1.29416306e-01, 1.88841812e-02, 2.72372675e-01, 8.74304355e-01,\n",
       "       9.84648056e-01, 7.68508001e-01, 0.00000000e+00, 1.42204668e-05,\n",
       "       1.62571676e-01, 1.04661946e-05, 2.36122164e-01, 4.77886119e-05,\n",
       "       7.45035357e-04, 1.99304795e-05, 1.42204668e-05, 0.00000000e+00])"
      ]
     },
     "execution_count": 82,
     "metadata": {},
     "output_type": "execute_result"
    }
   ],
   "source": [
    "p_values_corrected"
   ]
  },
  {
   "cell_type": "code",
   "execution_count": null,
   "metadata": {},
   "outputs": [],
   "source": []
  }
 ],
 "metadata": {
  "kernelspec": {
   "display_name": "Python 3",
   "language": "python",
   "name": "python3"
  },
  "language_info": {
   "codemirror_mode": {
    "name": "ipython",
    "version": 3
   },
   "file_extension": ".py",
   "mimetype": "text/x-python",
   "name": "python",
   "nbconvert_exporter": "python",
   "pygments_lexer": "ipython3",
   "version": "3.7.3"
  }
 },
 "nbformat": 4,
 "nbformat_minor": 2
}
