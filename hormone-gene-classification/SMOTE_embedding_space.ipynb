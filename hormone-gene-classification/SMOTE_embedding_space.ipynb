{
  "nbformat": 4,
  "nbformat_minor": 0,
  "metadata": {
    "colab": {
      "name": "SMOTE_embedding_space.ipynb",
      "provenance": [],
      "collapsed_sections": [],
      "authorship_tag": "ABX9TyO3iAAK0zI2ZzAaFRdmRP2q",
      "include_colab_link": true
    },
    "kernelspec": {
      "name": "python3",
      "display_name": "Python 3"
    }
  },
  "cells": [
    {
      "cell_type": "markdown",
      "metadata": {
        "id": "view-in-github",
        "colab_type": "text"
      },
      "source": [
        "<a href=\"https://colab.research.google.com/github/Mohit-Mithra/gene-coexpression-network/blob/master/hormone-gene-classification/SMOTE_embedding_space.ipynb\" target=\"_parent\"><img src=\"https://colab.research.google.com/assets/colab-badge.svg\" alt=\"Open In Colab\"/></a>"
      ]
    },
    {
      "cell_type": "code",
      "metadata": {
        "id": "A26VfMVpXWXI",
        "colab_type": "code",
        "colab": {
          "base_uri": "https://localhost:8080/",
          "height": 51
        },
        "outputId": "6a370d9f-c950-4118-8e78-33c67a0497c8"
      },
      "source": [
        "from google.colab import drive\n",
        "drive.mount('/content/gdrive')\n",
        "!pwd"
      ],
      "execution_count": 1,
      "outputs": [
        {
          "output_type": "stream",
          "text": [
            "Drive already mounted at /content/gdrive; to attempt to forcibly remount, call drive.mount(\"/content/gdrive\", force_remount=True).\n",
            "/content\n"
          ],
          "name": "stdout"
        }
      ]
    },
    {
      "cell_type": "code",
      "metadata": {
        "id": "OxUfTpWnY5eB",
        "colab_type": "code",
        "colab": {
          "base_uri": "https://localhost:8080/",
          "height": 102
        },
        "outputId": "3e2b2521-21e5-45c6-fcd7-ea22854a970b"
      },
      "source": [
        "%cd gdrive/My\\ Drive/IITM_internship\n",
        "!ls"
      ],
      "execution_count": 2,
      "outputs": [
        {
          "output_type": "stream",
          "text": [
            "/content/gdrive/My Drive/IITM_internship\n",
            "hormone_gene_graph0.txt\t\tvisualise_embeddings.ipynb\n",
            "hormone_src_tgt_truegenes.txt\tword_embeddings.txt\n",
            "SMOTE_embedding_space.ipynb\tword_vectors.json\n",
            "SMOTE_oversampled_dataset.json\tword_vectors.npy\n"
          ],
          "name": "stdout"
        }
      ]
    },
    {
      "cell_type": "code",
      "metadata": {
        "id": "lLrsAqpIZ79Y",
        "colab_type": "code",
        "colab": {}
      },
      "source": [
        "import json"
      ],
      "execution_count": 3,
      "outputs": []
    },
    {
      "cell_type": "code",
      "metadata": {
        "id": "KloHQ0fMtIst",
        "colab_type": "code",
        "colab": {}
      },
      "source": [
        "def warn(*args, **kwargs):\n",
        "    pass\n",
        "import warnings\n",
        "warnings.warn = warn\n",
        "\n",
        "from collections import Counter\n",
        "from imblearn.over_sampling import SMOTE\n",
        "from matplotlib import pyplot\n",
        "import numpy as np"
      ],
      "execution_count": 4,
      "outputs": []
    },
    {
      "cell_type": "code",
      "metadata": {
        "id": "O4zdA3GfZJm5",
        "colab_type": "code",
        "colab": {}
      },
      "source": [
        "with open('hormone_src_tgt_truegenes.txt') as json_file:\n",
        "    horm_gene = json.load(json_file)"
      ],
      "execution_count": 5,
      "outputs": []
    },
    {
      "cell_type": "markdown",
      "metadata": {
        "id": "cgvFMi5gaiTz",
        "colab_type": "text"
      },
      "source": [
        "### Dataset analysis"
      ]
    },
    {
      "cell_type": "code",
      "metadata": {
        "id": "XHfJbw_bajlE",
        "colab_type": "code",
        "colab": {
          "base_uri": "https://localhost:8080/",
          "height": 51
        },
        "outputId": "f530b104-2eea-41cc-9bb1-00290f5bb9e3"
      },
      "source": [
        "print(len(horm_gene))\n",
        "print(type(horm_gene))\n",
        "#print(horm_gene['Adrenaline'])"
      ],
      "execution_count": 6,
      "outputs": [
        {
          "output_type": "stream",
          "text": [
            "59\n",
            "<class 'dict'>\n"
          ],
          "name": "stdout"
        }
      ]
    },
    {
      "cell_type": "code",
      "metadata": {
        "id": "Tu27NIQsamGS",
        "colab_type": "code",
        "colab": {}
      },
      "source": [
        "#To get count of genes for each hormone\n",
        "\n",
        "gene_counts = {}\n",
        "for hormone, genes in horm_gene.items():\n",
        "    gene_counts[hormone] = [len(genes['source']), len(genes['target'])] "
      ],
      "execution_count": 7,
      "outputs": []
    },
    {
      "cell_type": "markdown",
      "metadata": {
        "id": "fXf_c7cgcYfp",
        "colab_type": "text"
      },
      "source": [
        "### Retaining genes with embeddings"
      ]
    },
    {
      "cell_type": "code",
      "metadata": {
        "id": "waw2OCuFb9m1",
        "colab_type": "code",
        "colab": {
          "base_uri": "https://localhost:8080/",
          "height": 34
        },
        "outputId": "e88e45b4-3858-4ef1-b191-b9e18a2a74f4"
      },
      "source": [
        "with open('word_embeddings.txt') as json_file:\n",
        "    initial_embeddings = json.load(json_file)\n",
        "\n",
        "print(len(initial_embeddings))"
      ],
      "execution_count": 8,
      "outputs": [
        {
          "output_type": "stream",
          "text": [
            "1410\n"
          ],
          "name": "stdout"
        }
      ]
    },
    {
      "cell_type": "code",
      "metadata": {
        "id": "wcA92VPeb5T7",
        "colab_type": "code",
        "colab": {}
      },
      "source": [
        "np_load_old = np.load\n",
        "\n",
        "np.load_new = lambda *a,**k: np_load_old(*a, allow_pickle=True, **k)"
      ],
      "execution_count": 9,
      "outputs": []
    },
    {
      "cell_type": "code",
      "metadata": {
        "id": "py2_efMmM8fe",
        "colab_type": "code",
        "colab": {
          "base_uri": "https://localhost:8080/",
          "height": 34
        },
        "outputId": "cf1eb21e-0fd7-450e-a81b-c47f05868d53"
      },
      "source": [
        "extra_embeddings = np.load_new('word_vectors.npy')[()]\n",
        "print(type(extra_embeddings))\n",
        "#print(extra_embeddings.keys())\n"
      ],
      "execution_count": 10,
      "outputs": [
        {
          "output_type": "stream",
          "text": [
            "<class 'dict'>\n"
          ],
          "name": "stdout"
        }
      ]
    },
    {
      "cell_type": "code",
      "metadata": {
        "id": "eyd3oFZbcjze",
        "colab_type": "code",
        "colab": {}
      },
      "source": [
        "def Merge(dict1, dict2): \n",
        "    res = {**dict1, **dict2} \n",
        "    return res"
      ],
      "execution_count": 11,
      "outputs": []
    },
    {
      "cell_type": "code",
      "metadata": {
        "id": "WzPD_4qKclax",
        "colab_type": "code",
        "colab": {
          "base_uri": "https://localhost:8080/",
          "height": 34
        },
        "outputId": "583491be-a8a8-48f5-e754-eafd04123fa3"
      },
      "source": [
        "embeddings = Merge(initial_embeddings, extra_embeddings)\n",
        "len(embeddings.keys())"
      ],
      "execution_count": 12,
      "outputs": [
        {
          "output_type": "execute_result",
          "data": {
            "text/plain": [
              "1431"
            ]
          },
          "metadata": {
            "tags": []
          },
          "execution_count": 12
        }
      ]
    },
    {
      "cell_type": "code",
      "metadata": {
        "id": "dUDMJUnpf6ec",
        "colab_type": "code",
        "colab": {
          "base_uri": "https://localhost:8080/",
          "height": 34
        },
        "outputId": "d66b00c3-67e6-4687-aa78-7a68af207a69"
      },
      "source": [
        "### Preparing Source Embedding dataset of SMOTE\n",
        "\n",
        "X_dataset_src = []\n",
        "y_dataset_src = []\n",
        "\n",
        "hormone_count = 0\n",
        "count_list = []\n",
        "\n",
        "y_map_src = {}\n",
        "for hormone in horm_gene.keys():\n",
        "    src_num_count = len(horm_gene[hormone]['source'])   \n",
        "    tar_num_count = len(horm_gene[hormone]['target'])\n",
        "\n",
        "    if src_num_count >= 6 and tar_num_count >= 6:           ### SMOTE requires each class to have atleast 6 examples. \n",
        "        y_map_src[hormone_count] = hormone                  ### So, consider hormones that have atleast 6 source and target genes\n",
        "        count_list.append(src_num_count)\n",
        "        if hormone in initial_embeddings.keys():\n",
        "            for src_gene in horm_gene[hormone]['source']:\n",
        "\n",
        "                if src_gene.lower() in initial_embeddings.keys():\n",
        "                    source_gene = src_gene.lower()\n",
        "                    X_dataset_src.append(initial_embeddings[source_gene])\n",
        "                    y_dataset_src.append(hormone_count)\n",
        "\n",
        "                elif src_gene.lower() in extra_embeddings.keys():\n",
        "                    source_gene = src_gene.lower()\n",
        "                    X_dataset_src.append(extra_embeddings[source_gene])\n",
        "                    y_dataset_src.append(hormone_count)\n",
        "\n",
        "            hormone_count = hormone_count + 1\n",
        "\n",
        "        elif hormone.lower() in extra_embeddings.keys():\n",
        "            for src_gene in horm_gene[hormone]['source']:\n",
        "\n",
        "                if src_gene.lower() in initial_embeddings.keys():\n",
        "                    source_gene = src_gene.lower()\n",
        "                    X_dataset_src.append(initial_embeddings[source_gene])\n",
        "                    y_dataset_src.append(hormone_count)\n",
        "\n",
        "                elif src_gene.lower() in extra_embeddings.keys():\n",
        "                    source_gene = src_gene.lower()\n",
        "                    X_dataset_src.append(extra_embeddings[source_gene])\n",
        "                    y_dataset_src.append(hormone_count)\n",
        "\n",
        "            hormone_count = hormone_count + 1\n",
        "\n",
        "#print(y_dataset_src)\n",
        "#print(len(X_dataset_src[0]))\n",
        "print(count_list)\n",
        "#print(X_dataset_src[0])\n",
        "#print(X_dataset_src[1])"
      ],
      "execution_count": 13,
      "outputs": [
        {
          "output_type": "stream",
          "text": [
            "[8, 8, 15, 16, 32, 10, 16, 218, 21, 10, 40, 20, 20, 9, 23, 23, 12, 7, 7, 36, 24, 6]\n"
          ],
          "name": "stdout"
        }
      ]
    },
    {
      "cell_type": "code",
      "metadata": {
        "id": "yYw6tSrTlQe3",
        "colab_type": "code",
        "colab": {
          "base_uri": "https://localhost:8080/",
          "height": 34
        },
        "outputId": "6e511aaa-0648-4aa6-9aa1-2cb4d8d0912c"
      },
      "source": [
        "### Generate new embeddings for source genes using SMOTE\n",
        "\n",
        "counter_src = Counter(y_dataset_src)\n",
        "print(counter_src)\n",
        "oversample_src = SMOTE()\n",
        "X_dataset_src_oversampled, y_dataset_src_oversampled = oversample_src.fit_resample(np.array(X_dataset_src), np.array(y_dataset_src))\n",
        "counter = Counter(y_dataset_src_oversampled)\n",
        "#print(counter)\n",
        "#print(type(X_dataset_src_oversampled))\n",
        "#print(len(X_dataset_src_oversampled))\n",
        "#print(len(y_dataset_src_oversampled))"
      ],
      "execution_count": 14,
      "outputs": [
        {
          "output_type": "stream",
          "text": [
            "Counter({7: 218, 10: 40, 19: 36, 4: 32, 20: 24, 14: 23, 15: 23, 8: 21, 11: 20, 12: 20, 3: 16, 6: 16, 2: 15, 16: 12, 5: 10, 9: 10, 13: 9, 0: 8, 1: 8, 17: 7, 18: 7, 21: 6})\n"
          ],
          "name": "stdout"
        }
      ]
    },
    {
      "cell_type": "code",
      "metadata": {
        "id": "A8FUzqNXwOTI",
        "colab_type": "code",
        "colab": {}
      },
      "source": [
        "### Prepare source dataset, a dictionary of this format:  hormone_name -> 216 samples, each sample being an embedding of 200 dimensions \n",
        "\n",
        "source_dict = {}\n",
        "for hormone, embedding in zip(y_dataset_src_oversampled, X_dataset_src_oversampled):\n",
        "    if y_map_src[hormone] in source_dict:\n",
        "        source_dict[y_map_src[hormone]].append(list(embedding))\n",
        "    \n",
        "    else:\n",
        "        source_dict[y_map_src[hormone]] = [list(embedding)]"
      ],
      "execution_count": 15,
      "outputs": []
    },
    {
      "cell_type": "code",
      "metadata": {
        "id": "lMzVRczZyKTQ",
        "colab_type": "code",
        "colab": {
          "base_uri": "https://localhost:8080/",
          "height": 34
        },
        "outputId": "c5382ac2-73dd-4f89-de2b-0dc594b88569"
      },
      "source": [
        "len(source_dict.keys())"
      ],
      "execution_count": 16,
      "outputs": [
        {
          "output_type": "execute_result",
          "data": {
            "text/plain": [
              "22"
            ]
          },
          "metadata": {
            "tags": []
          },
          "execution_count": 16
        }
      ]
    },
    {
      "cell_type": "code",
      "metadata": {
        "id": "pNvB3OWF09Gl",
        "colab_type": "code",
        "colab": {
          "base_uri": "https://localhost:8080/",
          "height": 34
        },
        "outputId": "2a60c93b-be31-4a8e-fde5-6bf6f60215d9"
      },
      "source": [
        "X_dataset_tar = []\n",
        "y_dataset_tar = []\n",
        "\n",
        "hormone_count = 0\n",
        "count_list = []\n",
        "\n",
        "y_map_tar = {}\n",
        "for hormone in horm_gene.keys():\n",
        "    src_num_count = len(horm_gene[hormone]['source'])   \n",
        "    tar_num_count = len(horm_gene[hormone]['target'])\n",
        "\n",
        "    if src_num_count >= 6 and tar_num_count>=6:\n",
        "        y_map_tar[hormone_count] = hormone\n",
        "        count_list.append(tar_num_count)\n",
        "        if hormone in initial_embeddings.keys():\n",
        "            for tar_gene in horm_gene[hormone]['target']:\n",
        "\n",
        "                if tar_gene.lower() in initial_embeddings.keys():\n",
        "                    target_gene = tar_gene.lower()\n",
        "                    X_dataset_tar.append(initial_embeddings[target_gene])\n",
        "                    y_dataset_tar.append(hormone_count)\n",
        "\n",
        "                elif tar_gene.lower() in extra_embeddings.keys():\n",
        "                    target_gene = tar_gene.lower()\n",
        "                    X_dataset_tar.append(extra_embeddings[target_gene])\n",
        "                    y_dataset_tar.append(hormone_count)\n",
        "\n",
        "            hormone_count = hormone_count + 1\n",
        "\n",
        "        elif hormone.lower() in extra_embeddings.keys():\n",
        "            for tar_gene in horm_gene[hormone]['target']:\n",
        "\n",
        "                if tar_gene.lower() in initial_embeddings.keys():\n",
        "                    target_gene = tar_gene.lower()\n",
        "                    X_dataset_tar.append(initial_embeddings[target_gene])\n",
        "                    y_dataset_tar.append(hormone_count)\n",
        "\n",
        "                elif tar_gene.lower() in extra_embeddings.keys():\n",
        "                    target_gene = tar_gene.lower()\n",
        "                    X_dataset_tar.append(extra_embeddings[target_gene])\n",
        "                    y_dataset_tar.append(hormone_count)\n",
        "\n",
        "            hormone_count = hormone_count + 1\n",
        "\n",
        "#print(y_dataset_tar)\n",
        "print(len(X_dataset_tar[0]))\n",
        "#print(count_list)\n",
        "#print(X_dataset_tar[0])\n",
        "#print(X_dataset_tar[1])"
      ],
      "execution_count": 17,
      "outputs": [
        {
          "output_type": "stream",
          "text": [
            "200\n"
          ],
          "name": "stdout"
        }
      ]
    },
    {
      "cell_type": "code",
      "metadata": {
        "id": "iRaM-b-z1LpW",
        "colab_type": "code",
        "colab": {
          "base_uri": "https://localhost:8080/",
          "height": 34
        },
        "outputId": "da923877-8eae-4e6a-b623-51a62cf65b0c"
      },
      "source": [
        "counter_tar = Counter(y_dataset_tar)\n",
        "print(counter_tar)\n",
        "oversample_tar = SMOTE()\n",
        "X_dataset_tar_oversampled, y_dataset_tar_oversampled = oversample_tar.fit_resample(np.array(X_dataset_tar), np.array(y_dataset_tar))\n",
        "counter = Counter(y_dataset_tar_oversampled)\n",
        "#print(counter)\n",
        "#print(type(X_dataset_tar_oversampled))\n",
        "#print(len(X_dataset_tar_oversampled))\n",
        "#print(len(y_dataset_tar_oversampled))"
      ],
      "execution_count": 18,
      "outputs": [
        {
          "output_type": "stream",
          "text": [
            "Counter({7: 300, 4: 153, 19: 150, 11: 58, 12: 58, 8: 51, 16: 51, 13: 40, 6: 37, 10: 37, 5: 36, 0: 28, 1: 28, 18: 19, 20: 19, 14: 14, 15: 12, 9: 8, 21: 8, 2: 7, 3: 6, 17: 6})\n"
          ],
          "name": "stdout"
        }
      ]
    },
    {
      "cell_type": "code",
      "metadata": {
        "id": "y2ZCqgXcyelK",
        "colab_type": "code",
        "colab": {}
      },
      "source": [
        "target_dict = {}\n",
        "for hormone, embedding in zip(y_dataset_tar_oversampled, X_dataset_tar_oversampled):\n",
        "    if y_map_tar[hormone] in target_dict:\n",
        "        target_dict[y_map_tar[hormone]].append(list(embedding))\n",
        "    \n",
        "    else:\n",
        "        target_dict[y_map_tar[hormone]] = [list(embedding)]"
      ],
      "execution_count": 19,
      "outputs": []
    },
    {
      "cell_type": "markdown",
      "metadata": {
        "id": "PnBrMAjx5I1w",
        "colab_type": "text"
      },
      "source": [
        "## Random Sampling\n",
        "\n",
        "##### SMOTE generates 216 gene samples for homone source and 299 gene samples for hormone targers. Since we need equal number of source and target genes for each hormone, I randomly sampled 216 genes from target genes. "
      ]
    },
    {
      "cell_type": "code",
      "metadata": {
        "id": "wU-Kl2KhyoHP",
        "colab_type": "code",
        "colab": {}
      },
      "source": [
        "for hormone in target_dict:\n",
        "    random_choices = np.random.choice(len(target_dict[hormone]), len(source_dict[hormone]))\n",
        "    \n",
        "    target_dict[hormone] = [list(target_dict[hormone][sample]) for sample in random_choices]\n",
        "    "
      ],
      "execution_count": 20,
      "outputs": []
    },
    {
      "cell_type": "code",
      "metadata": {
        "id": "pzS4i1j40z_x",
        "colab_type": "code",
        "colab": {
          "base_uri": "https://localhost:8080/",
          "height": 34
        },
        "outputId": "ad1e4fcc-2c83-4f40-8837-9156f7993663"
      },
      "source": [
        "len(source_dict['Adrenaline']) == len(target_dict['Adrenaline'])"
      ],
      "execution_count": 21,
      "outputs": [
        {
          "output_type": "execute_result",
          "data": {
            "text/plain": [
              "True"
            ]
          },
          "metadata": {
            "tags": []
          },
          "execution_count": 21
        }
      ]
    },
    {
      "cell_type": "code",
      "metadata": {
        "id": "luZgdfuT1A0l",
        "colab_type": "code",
        "colab": {
          "base_uri": "https://localhost:8080/",
          "height": 187
        },
        "outputId": "b0541d96-1b5e-4fc5-86ad-3cb4c5a07244"
      },
      "source": [
        "dataset = {}\n",
        "dataset['source'] = source_dict\n",
        "dataset['target'] = target_dict\n",
        "\n",
        "print(dataset.keys())\n",
        "print('Number of hormones')\n",
        "print(len(dataset['source']))\n",
        "print(len(dataset['target']))\n",
        "print('Number of samples for a hormone')\n",
        "print(len(dataset['source']['Adrenaline']))\n",
        "print(len(dataset['target']['Adrenaline']))\n",
        "print('Dimension of embedding for each sample')\n",
        "print(len(dataset['source']['Adrenaline'][0]))\n",
        "print(len(dataset['target']['Adrenaline'][0]))"
      ],
      "execution_count": 22,
      "outputs": [
        {
          "output_type": "stream",
          "text": [
            "dict_keys(['source', 'target'])\n",
            "Number of hormones\n",
            "22\n",
            "22\n",
            "Number of samples for a hormone\n",
            "218\n",
            "218\n",
            "Dimension of embedding for each sample\n",
            "200\n",
            "200\n"
          ],
          "name": "stdout"
        }
      ]
    },
    {
      "cell_type": "code",
      "metadata": {
        "id": "npcx_bNK2BWR",
        "colab_type": "code",
        "colab": {}
      },
      "source": [
        "with open('SMOTE_oversampled_dataset.json', 'w') as fp:\n",
        "    json.dump(dataset, fp)"
      ],
      "execution_count": 23,
      "outputs": []
    }
  ]
}