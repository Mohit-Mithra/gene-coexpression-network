{
  "nbformat": 4,
  "nbformat_minor": 0,
  "metadata": {
    "colab": {
      "name": "SMOTE_embedding_space.ipynb",
      "provenance": [],
      "collapsed_sections": [],
      "authorship_tag": "ABX9TyNso+xJCFvgR94cSyr4l1A/",
      "include_colab_link": true
    },
    "kernelspec": {
      "name": "python3",
      "display_name": "Python 3"
    }
  },
  "cells": [
    {
      "cell_type": "markdown",
      "metadata": {
        "id": "view-in-github",
        "colab_type": "text"
      },
      "source": [
        "<a href=\"https://colab.research.google.com/github/Mohit-Mithra/gene-coexpression-network/blob/master/hormone-gene-classification/SMOTE_embedding_space.ipynb\" target=\"_parent\"><img src=\"https://colab.research.google.com/assets/colab-badge.svg\" alt=\"Open In Colab\"/></a>"
      ]
    },
    {
      "cell_type": "code",
      "metadata": {
        "id": "A26VfMVpXWXI",
        "colab_type": "code",
        "colab": {
          "base_uri": "https://localhost:8080/",
          "height": 51
        },
        "outputId": "dfc25e83-1ed0-4f4f-ca6a-b5da3910fc97"
      },
      "source": [
        "from google.colab import drive\n",
        "drive.mount('/content/gdrive')\n",
        "!pwd"
      ],
      "execution_count": null,
      "outputs": [
        {
          "output_type": "stream",
          "text": [
            "Drive already mounted at /content/gdrive; to attempt to forcibly remount, call drive.mount(\"/content/gdrive\", force_remount=True).\n",
            "/content\n"
          ],
          "name": "stdout"
        }
      ]
    },
    {
      "cell_type": "code",
      "metadata": {
        "id": "OxUfTpWnY5eB",
        "colab_type": "code",
        "colab": {
          "base_uri": "https://localhost:8080/",
          "height": 102
        },
        "outputId": "dd3ac900-aedf-4b2f-c8b2-761db8a5dabe"
      },
      "source": [
        "%cd gdrive/My\\ Drive/IITM_internship\n",
        "!ls"
      ],
      "execution_count": null,
      "outputs": [
        {
          "output_type": "stream",
          "text": [
            "/content/gdrive/My Drive/IITM_internship\n",
            "hormone_gene_graph0.txt\t\tvisualise_embeddings.ipynb\n",
            "hormone_src_tgt_truegenes.txt\tword_embeddings.txt\n",
            "SMOTE_embedding_space.ipynb\tword_vectors.json\n",
            "SMOTE_oversampled_dataset.json\tword_vectors.npy\n"
          ],
          "name": "stdout"
        }
      ]
    },
    {
      "cell_type": "code",
      "metadata": {
        "id": "lLrsAqpIZ79Y",
        "colab_type": "code",
        "colab": {}
      },
      "source": [
        "import json"
      ],
      "execution_count": null,
      "outputs": []
    },
    {
      "cell_type": "code",
      "metadata": {
        "id": "KloHQ0fMtIst",
        "colab_type": "code",
        "colab": {
          "base_uri": "https://localhost:8080/",
          "height": 105
        },
        "outputId": "8e15a5f7-01bc-483a-de49-2837d2320a8f"
      },
      "source": [
        "from collections import Counter\n",
        "from imblearn.over_sampling import SMOTE\n",
        "from matplotlib import pyplot\n",
        "import numpy as np"
      ],
      "execution_count": null,
      "outputs": [
        {
          "output_type": "stream",
          "text": [
            "/usr/local/lib/python3.6/dist-packages/sklearn/externals/six.py:31: FutureWarning: The module is deprecated in version 0.21 and will be removed in version 0.23 since we've dropped support for Python 2.7. Please rely on the official version of six (https://pypi.org/project/six/).\n",
            "  \"(https://pypi.org/project/six/).\", FutureWarning)\n",
            "/usr/local/lib/python3.6/dist-packages/sklearn/utils/deprecation.py:144: FutureWarning: The sklearn.neighbors.base module is  deprecated in version 0.22 and will be removed in version 0.24. The corresponding classes / functions should instead be imported from sklearn.neighbors. Anything that cannot be imported from sklearn.neighbors is now part of the private API.\n",
            "  warnings.warn(message, FutureWarning)\n"
          ],
          "name": "stderr"
        }
      ]
    },
    {
      "cell_type": "code",
      "metadata": {
        "id": "O4zdA3GfZJm5",
        "colab_type": "code",
        "colab": {}
      },
      "source": [
        "with open('hormone_src_tgt_truegenes.txt') as json_file:\n",
        "    horm_gene = json.load(json_file)"
      ],
      "execution_count": null,
      "outputs": []
    },
    {
      "cell_type": "code",
      "metadata": {
        "id": "P1FkeCrGhwnk",
        "colab_type": "code",
        "colab": {
          "base_uri": "https://localhost:8080/",
          "height": 54
        },
        "outputId": "aece7565-dfc4-4762-a5d5-422a116d0d81"
      },
      "source": [
        "horm_gene.keys()"
      ],
      "execution_count": null,
      "outputs": [
        {
          "output_type": "execute_result",
          "data": {
            "text/plain": [
              "dict_keys(['Adrenaline', 'Epinephrine', 'Aldosterone', 'Androgen', 'Angiotensin ', 'Calcitonin', 'Cholecystokinin', 'Cortisol', 'Dehydroepiandrosterone', 'Dihydrotestosterone', 'Erythropoietin', 'Estradiol', 'Oestradiol ', 'Estrogen', 'Estrone', 'Oestrone ', 'Gastrin', 'Ghrelin', 'Glucagon', 'Glucagon Like Peptide 1', 'Somatotrophin', 'Human chorionic Gonadotropin ', 'Insulin', 'Kisspeptin', 'metastin', 'Leptin', 'Luteinizing Hormone ', 'Melatonin', 'Oxytocin', 'Parathyrin ', 'Peptide YY', 'Progesterone', 'Prolactin', 'Prostaglandins', 'Relaxin', 'Serotonin', '5-hydroxytryptamine', 'Somatostatin', 'Testosterone', 'Triiodothyronin T3', 'Thyroxine T4', 'Vitamin D', 'Thyroid-stimulating hormone ', 'Thyrotropin ', 'Adrenocorticotropin', 'Follicle-stimulating hormone', 'Antidiuretic hormone', 'Vasopressin', 'Thyrotropin-releasing hormone', 'Growth hormone-releasing hormone', 'Corticotropin-releasing hormone', 'Gonadotropin-releasing hormone', 'Vascular Endothelial Growth Factor', 'Progestin', 'Norepinephrine', 'Aromatase', 'Adiponectin', 'A-type natriuretic peptide', 'B-type natriuretic peptide'])"
            ]
          },
          "metadata": {
            "tags": []
          },
          "execution_count": 6
        }
      ]
    },
    {
      "cell_type": "markdown",
      "metadata": {
        "id": "cgvFMi5gaiTz",
        "colab_type": "text"
      },
      "source": [
        "### Dataset analysis"
      ]
    },
    {
      "cell_type": "code",
      "metadata": {
        "id": "XHfJbw_bajlE",
        "colab_type": "code",
        "colab": {
          "base_uri": "https://localhost:8080/",
          "height": 88
        },
        "outputId": "d7c5db0a-69cd-4822-d25c-a848531e6cac"
      },
      "source": [
        "print(len(horm_gene))\n",
        "print(type(horm_gene))\n",
        "print(horm_gene['Adrenaline'])"
      ],
      "execution_count": null,
      "outputs": [
        {
          "output_type": "stream",
          "text": [
            "59\n",
            "<class 'dict'>\n",
            "{'source': ['TH', 'CRH', 'ADRA2A', 'ADRA2C', 'CARTPT', 'ADRA2B', 'PNMT', 'VIP'], 'target': ['ADRB2', 'PDE4D', 'STAR', 'PPARGC1A', 'ADRA2B', 'ADRA1D', 'SIRT2', 'ADIPOQ', 'ADRA2A', 'RYR2', 'PDE4B', 'ADRB1', 'SNCA', 'ADRB3', 'PENK', 'KCNQ1', 'PKLR', 'SRD5A1', 'TPM1', 'ADRA2C', 'RNLS', 'ATP2B4', 'PRKACA', 'DRD5', 'ADRA1B', 'DRD4', 'SLC9A1', 'ADRA1A']}\n"
          ],
          "name": "stdout"
        }
      ]
    },
    {
      "cell_type": "code",
      "metadata": {
        "id": "Tu27NIQsamGS",
        "colab_type": "code",
        "colab": {}
      },
      "source": [
        "#To get count of genes for each hormone\n",
        "\n",
        "gene_counts = {}\n",
        "for hormone, genes in horm_gene.items():\n",
        "    gene_counts[hormone] = [len(genes['source']), len(genes['target'])] "
      ],
      "execution_count": null,
      "outputs": []
    },
    {
      "cell_type": "markdown",
      "metadata": {
        "id": "fXf_c7cgcYfp",
        "colab_type": "text"
      },
      "source": [
        "### Retaining genes with embeddings"
      ]
    },
    {
      "cell_type": "code",
      "metadata": {
        "id": "waw2OCuFb9m1",
        "colab_type": "code",
        "colab": {
          "base_uri": "https://localhost:8080/",
          "height": 34
        },
        "outputId": "8d2985d4-76cf-47f2-b750-93e8d834ce1b"
      },
      "source": [
        "with open('word_embeddings.txt') as json_file:\n",
        "    initial_embeddings = json.load(json_file)\n",
        "\n",
        "print(len(initial_embeddings))"
      ],
      "execution_count": null,
      "outputs": [
        {
          "output_type": "stream",
          "text": [
            "1410\n"
          ],
          "name": "stdout"
        }
      ]
    },
    {
      "cell_type": "code",
      "metadata": {
        "id": "wcA92VPeb5T7",
        "colab_type": "code",
        "colab": {}
      },
      "source": [
        "#np_load_old = np.load()\n",
        "#p.load = lambda a,*k: np_load_old(*a, allow_pickle=True, **k)\n",
        "#extra_embeddings = np.load('word_vectors.npy')[()]\n",
        "np_load_old = np.load\n",
        "\n",
        "# modify the default parameters of np.load\n",
        "np.load_new = lambda *a,**k: np_load_old(*a, allow_pickle=True, **k)\n",
        "#extra_embeddings = np.load('word_vectors.npy')\n",
        "\n"
      ],
      "execution_count": null,
      "outputs": []
    },
    {
      "cell_type": "code",
      "metadata": {
        "id": "py2_efMmM8fe",
        "colab_type": "code",
        "colab": {
          "base_uri": "https://localhost:8080/",
          "height": 71
        },
        "outputId": "7bfe5a93-a036-40a8-c0be-357c52496d83"
      },
      "source": [
        "extra_embeddings = np.load_new('word_vectors.npy')[()]\n",
        "print(type(extra_embeddings))\n",
        "print(extra_embeddings.keys())\n"
      ],
      "execution_count": null,
      "outputs": [
        {
          "output_type": "stream",
          "text": [
            "<class 'dict'>\n",
            "dict_keys(['rpl27', 'androgen', 'dehydroepiandrosterone', 'dihydrotestosterone', 'cst3', 'mbd1', 'hspd1', 'estrone', 'oestrone ', 'ffar4', 'glucagon like peptide 1', 'pick1', 'tns2', 'kisspeptin', 'metastin', 'lrp2', 'relaxin', 'mtap', 'slco1c1', 'progestin', 'aromatase'])\n"
          ],
          "name": "stdout"
        }
      ]
    },
    {
      "cell_type": "code",
      "metadata": {
        "id": "y-i2sWERUDWq",
        "colab_type": "code",
        "colab": {
          "base_uri": "https://localhost:8080/",
          "height": 34
        },
        "outputId": "a763fd35-57c8-4f74-f88d-fa12cc08aa4e"
      },
      "source": [
        "len(horm_gene['Adrenaline']['source'])"
      ],
      "execution_count": null,
      "outputs": [
        {
          "output_type": "execute_result",
          "data": {
            "text/plain": [
              "8"
            ]
          },
          "metadata": {
            "tags": []
          },
          "execution_count": 33
        }
      ]
    },
    {
      "cell_type": "code",
      "metadata": {
        "id": "eyd3oFZbcjze",
        "colab_type": "code",
        "colab": {}
      },
      "source": [
        "def Merge(dict1, dict2): \n",
        "    res = {**dict1, **dict2} \n",
        "    return res"
      ],
      "execution_count": null,
      "outputs": []
    },
    {
      "cell_type": "code",
      "metadata": {
        "id": "WzPD_4qKclax",
        "colab_type": "code",
        "colab": {
          "base_uri": "https://localhost:8080/",
          "height": 34
        },
        "outputId": "6bf68fd7-58e3-4a7e-e65a-030bbc4e4f25"
      },
      "source": [
        "embeddings = Merge(initial_embeddings, extra_embeddings)\n",
        "len(embeddings.keys())"
      ],
      "execution_count": null,
      "outputs": [
        {
          "output_type": "execute_result",
          "data": {
            "text/plain": [
              "1431"
            ]
          },
          "metadata": {
            "tags": []
          },
          "execution_count": 13
        }
      ]
    },
    {
      "cell_type": "code",
      "metadata": {
        "id": "JJO1e2eseWPM",
        "colab_type": "code",
        "colab": {
          "base_uri": "https://localhost:8080/",
          "height": 180
        },
        "outputId": "e0a54a72-386c-4e78-9eab-a43e8f9c1f4d"
      },
      "source": [
        "print(len(emb_horm_gene.keys()))\n",
        "print(horm_gene['Adrenaline'])"
      ],
      "execution_count": null,
      "outputs": [
        {
          "output_type": "error",
          "ename": "NameError",
          "evalue": "ignored",
          "traceback": [
            "\u001b[0;31m---------------------------------------------------------------------------\u001b[0m",
            "\u001b[0;31mNameError\u001b[0m                                 Traceback (most recent call last)",
            "\u001b[0;32m<ipython-input-14-1424b4f38fbb>\u001b[0m in \u001b[0;36m<module>\u001b[0;34m()\u001b[0m\n\u001b[0;32m----> 1\u001b[0;31m \u001b[0mprint\u001b[0m\u001b[0;34m(\u001b[0m\u001b[0mlen\u001b[0m\u001b[0;34m(\u001b[0m\u001b[0memb_horm_gene\u001b[0m\u001b[0;34m.\u001b[0m\u001b[0mkeys\u001b[0m\u001b[0;34m(\u001b[0m\u001b[0;34m)\u001b[0m\u001b[0;34m)\u001b[0m\u001b[0;34m)\u001b[0m\u001b[0;34m\u001b[0m\u001b[0;34m\u001b[0m\u001b[0m\n\u001b[0m\u001b[1;32m      2\u001b[0m \u001b[0mprint\u001b[0m\u001b[0;34m(\u001b[0m\u001b[0mhorm_gene\u001b[0m\u001b[0;34m[\u001b[0m\u001b[0;34m'Adrenaline'\u001b[0m\u001b[0;34m]\u001b[0m\u001b[0;34m)\u001b[0m\u001b[0;34m\u001b[0m\u001b[0;34m\u001b[0m\u001b[0m\n",
            "\u001b[0;31mNameError\u001b[0m: name 'emb_horm_gene' is not defined"
          ]
        }
      ]
    },
    {
      "cell_type": "code",
      "metadata": {
        "id": "CJWzoXfrefdU",
        "colab_type": "code",
        "colab": {}
      },
      "source": [
        "emb_gene_counts = {}\n",
        "for hormone, genes in emb_horm_gene.items():\n",
        "    emb_gene_counts[hormone] = [len(genes['source']), len(genes['target'])]\n",
        "    #print(emb_gene_counts[hormone])\n"
      ],
      "execution_count": null,
      "outputs": []
    },
    {
      "cell_type": "code",
      "metadata": {
        "id": "dUDMJUnpf6ec",
        "colab_type": "code",
        "colab": {
          "base_uri": "https://localhost:8080/",
          "height": 122
        },
        "outputId": "22695153-7047-463b-9851-2517b9e1e400"
      },
      "source": [
        "### Preparing Source Embedding dataset of SMOTE\n",
        "\n",
        "X_dataset_src = []\n",
        "y_dataset_src = []\n",
        "\n",
        "hormone_count = 0\n",
        "count_list = []\n",
        "\n",
        "y_map_src = {}\n",
        "for hormone in horm_gene.keys():\n",
        "    src_num_count = len(horm_gene[hormone]['source'])   \n",
        "    tar_num_count = len(horm_gene[hormone]['target'])\n",
        "\n",
        "    if src_num_count >= 6 and tar_num_count >= 6:           ### SMOTE requires each class to have atleast 6 examples. \n",
        "        y_map_src[hormone_count] = hormone                  ### So, consider hormones that have atleast 6 source and target genes\n",
        "        count_list.append(src_num_count)\n",
        "        if hormone in initial_embeddings.keys():\n",
        "            for src_gene in horm_gene[hormone]['source']:\n",
        "\n",
        "                if src_gene.lower() in initial_embeddings.keys():\n",
        "                    source_gene = src_gene.lower()\n",
        "                    X_dataset_src.append(initial_embeddings[source_gene])\n",
        "                    y_dataset_src.append(hormone_count)\n",
        "\n",
        "                elif src_gene.lower() in extra_embeddings.keys():\n",
        "                    source_gene = src_gene.lower()\n",
        "                    X_dataset_src.append(extra_embeddings[source_gene])\n",
        "                    y_dataset_src.append(hormone_count)\n",
        "\n",
        "            hormone_count = hormone_count + 1\n",
        "\n",
        "        elif hormone.lower() in extra_embeddings.keys():\n",
        "            for src_gene in horm_gene[hormone]['source']:\n",
        "\n",
        "                if src_gene.lower() in initial_embeddings.keys():\n",
        "                    source_gene = src_gene.lower()\n",
        "                    X_dataset_src.append(initial_embeddings[source_gene])\n",
        "                    y_dataset_src.append(hormone_count)\n",
        "\n",
        "                elif src_gene.lower() in extra_embeddings.keys():\n",
        "                    source_gene = src_gene.lower()\n",
        "                    X_dataset_src.append(extra_embeddings[source_gene])\n",
        "                    y_dataset_src.append(hormone_count)\n",
        "\n",
        "            hormone_count = hormone_count + 1\n",
        "\n",
        "print(y_dataset_src)\n",
        "print(len(X_dataset_src[0]))\n",
        "print(count_list)\n",
        "print(X_dataset_src[0])\n",
        "print(X_dataset_src[1])"
      ],
      "execution_count": null,
      "outputs": [
        {
          "output_type": "stream",
          "text": [
            "[0, 0, 0, 0, 0, 0, 0, 0, 1, 1, 1, 1, 1, 1, 1, 1, 2, 2, 2, 2, 2, 2, 2, 2, 2, 2, 2, 2, 2, 2, 2, 3, 3, 3, 3, 3, 3, 3, 3, 3, 3, 3, 3, 3, 3, 3, 3, 4, 4, 4, 4, 4, 4, 4, 4, 4, 4, 4, 4, 4, 4, 4, 4, 4, 4, 4, 4, 4, 4, 4, 4, 4, 4, 4, 4, 4, 4, 4, 4, 5, 5, 5, 5, 5, 5, 5, 5, 5, 5, 6, 6, 6, 6, 6, 6, 6, 6, 6, 6, 6, 6, 6, 6, 6, 6, 7, 7, 7, 7, 7, 7, 7, 7, 7, 7, 7, 7, 7, 7, 7, 7, 7, 7, 7, 7, 7, 7, 7, 7, 7, 7, 7, 7, 7, 7, 7, 7, 7, 7, 7, 7, 7, 7, 7, 7, 7, 7, 7, 7, 7, 7, 7, 7, 7, 7, 7, 7, 7, 7, 7, 7, 7, 7, 7, 7, 7, 7, 7, 7, 7, 7, 7, 7, 7, 7, 7, 7, 7, 7, 7, 7, 7, 7, 7, 7, 7, 7, 7, 7, 7, 7, 7, 7, 7, 7, 7, 7, 7, 7, 7, 7, 7, 7, 7, 7, 7, 7, 7, 7, 7, 7, 7, 7, 7, 7, 7, 7, 7, 7, 7, 7, 7, 7, 7, 7, 7, 7, 7, 7, 7, 7, 7, 7, 7, 7, 7, 7, 7, 7, 7, 7, 7, 7, 7, 7, 7, 7, 7, 7, 7, 7, 7, 7, 7, 7, 7, 7, 7, 7, 7, 7, 7, 7, 7, 7, 7, 7, 7, 7, 7, 7, 7, 7, 7, 7, 7, 7, 7, 7, 7, 7, 7, 7, 7, 7, 7, 7, 7, 7, 7, 7, 7, 7, 7, 7, 7, 7, 7, 7, 7, 7, 7, 7, 7, 7, 7, 7, 7, 7, 7, 7, 7, 7, 7, 7, 7, 7, 7, 7, 7, 7, 7, 7, 8, 8, 8, 8, 8, 8, 8, 8, 8, 8, 8, 8, 8, 8, 8, 8, 8, 8, 8, 8, 8, 9, 9, 9, 9, 9, 9, 9, 9, 9, 9, 10, 10, 10, 10, 10, 10, 10, 10, 10, 10, 10, 10, 10, 10, 10, 10, 10, 10, 10, 10, 10, 10, 10, 10, 10, 10, 10, 10, 10, 10, 10, 10, 10, 10, 10, 10, 10, 10, 10, 10, 11, 11, 11, 11, 11, 11, 11, 11, 11, 11, 11, 11, 11, 11, 11, 11, 11, 11, 11, 11, 12, 12, 12, 12, 12, 12, 12, 12, 12, 12, 12, 12, 12, 12, 12, 12, 12, 12, 12, 12, 13, 13, 13, 13, 13, 13, 13, 13, 13, 14, 14, 14, 14, 14, 14, 14, 14, 14, 14, 14, 14, 14, 14, 14, 14, 14, 14, 14, 14, 14, 14, 14, 15, 15, 15, 15, 15, 15, 15, 15, 15, 15, 15, 15, 15, 15, 15, 15, 15, 15, 15, 15, 15, 15, 15, 16, 16, 16, 16, 16, 16, 16, 16, 16, 16, 16, 16, 17, 17, 17, 17, 17, 17, 17, 18, 18, 18, 18, 18, 18, 18, 19, 19, 19, 19, 19, 19, 19, 19, 19, 19, 19, 19, 19, 19, 19, 19, 19, 19, 19, 19, 19, 19, 19, 19, 19, 19, 19, 19, 19, 19, 19, 19, 19, 19, 19, 19, 20, 20, 20, 20, 20, 20, 20, 20, 20, 20, 20, 20, 20, 20, 20, 20, 20, 20, 20, 20, 20, 20, 20, 20, 21, 21, 21, 21, 21, 21]\n",
            "200\n",
            "[8, 8, 15, 16, 32, 10, 16, 218, 21, 10, 40, 20, 20, 9, 23, 23, 12, 7, 7, 36, 24, 6]\n",
            "[0.3003838062286377, 0.24530556797981262, 0.18240103125572205, -0.20792073011398315, -0.3093523383140564, -1.0749152898788452, -1.336442470550537, 0.18213950097560883, 0.13954561948776245, 0.40844494104385376, -0.26542195677757263, 0.6333817839622498, -0.09723566472530365, 0.6622062921524048, 0.022736288607120514, -0.11951925605535507, -0.41631394624710083, -0.6670872569084167, 0.5282537341117859, 0.8617372512817383, -0.5299907326698303, 0.19031770527362823, -0.29217636585235596, 0.24099129438400269, -0.21943262219429016, 0.8397825956344604, 0.09590348601341248, -0.28895053267478943, 0.4167006015777588, -0.199184387922287, 0.0022615790367126465, -0.05902927368879318, -0.5370274186134338, -0.4160058796405792, -0.7833935022354126, 0.4023604989051819, 0.08014988899230957, -0.1249794065952301, 0.31046807765960693, -0.026605576276779175, -0.04418876767158508, 0.14280083775520325, -0.4615485370159149, 0.5601660013198853, -0.37401247024536133, -0.004514351487159729, -0.47798264026641846, 0.8145753145217896, -1.0175979137420654, 1.0145314931869507, -0.9177190065383911, -0.2536190450191498, -0.8281992673873901, -0.6634141206741333, -0.02979164570569992, -0.31556737422943115, -0.2369350641965866, 0.1892814189195633, -0.4991055428981781, -0.23556891083717346, -0.3566690683364868, -0.004554465413093567, 0.29861071705818176, -0.6177427768707275, 0.3463616371154785, 0.5014198422431946, -0.35319334268569946, 0.39086467027664185, 0.5867319703102112, 0.2936300039291382, -0.29400545358657837, 0.6347025632858276, -0.2560489773750305, 0.2472294270992279, 0.2945081889629364, 0.3228667378425598, -1.165781021118164, -0.027639925479888916, -0.8628640174865723, 0.4411398768424988, 0.2318289875984192, -0.448528528213501, 0.5809536576271057, 0.030013203620910645, 0.34277403354644775, 0.06765446066856384, 0.08662658929824829, 0.260919451713562, -1.0464502573013306, -0.3551991581916809, 0.4662662148475647, -0.4956691563129425, -0.048923641443252563, -0.08247306942939758, -0.295133501291275, -0.6125315427780151, -0.1420166790485382, -0.1917392611503601, 0.46264615654945374, 0.01957639306783676, 0.230073481798172, 0.00973595678806305, 0.004747554659843445, 0.19336619973182678, 0.2922631502151489, 0.6437058448791504, -0.07971659302711487, -0.4888307452201843, 0.08695489168167114, 0.16923640668392181, 0.29483920335769653, -0.004805862903594971, 0.4656818211078644, -0.09528741240501404, -0.5072300434112549, 0.3049180209636688, -0.43376797437667847, -0.6893894672393799, -0.7456347346305847, -0.37557584047317505, -0.012463778257369995, 0.3468414545059204, 0.36431604623794556, 0.6717481017112732, 0.011261031031608582, -1.056178331375122, 0.4707337021827698, 0.1669168770313263, -0.3853057622909546, 0.2089051604270935, -0.25636357069015503, -0.00722956657409668, -0.515434741973877, 0.016199707984924316, 0.429173082113266, -0.34890177845954895, -0.3145284652709961, 0.12384849786758423, -0.44803163409233093, 0.36459803581237793, 0.4528246819972992, 0.646006166934967, -0.20032653212547302, 0.5685762166976929, -0.20458795130252838, -0.8195689916610718, 0.8212635517120361, -0.46592143177986145, -0.12763004004955292, -0.6251375675201416, -0.08274342864751816, -0.683856189250946, 0.7495623826980591, -0.5972034931182861, 0.22583654522895813, 0.25127819180488586, -0.030439138412475586, 0.21096040308475494, 0.28624430298805237, 0.1010141372680664, 0.30390310287475586, -0.12468552589416504, 0.4526504874229431, 0.3461267352104187, 0.2219865471124649, -0.2254839390516281, 0.49335339665412903, 0.18381744623184204, -0.20913590490818024, 0.035883828997612, -0.3725109398365021, 0.17205782234668732, -0.6105307340621948, 0.2975047528743744, -0.12103640288114548, -0.4169185161590576, -0.49793097376823425, -0.2507878243923187, 0.20742157101631165, -1.766624927520752, -0.4823299050331116, -0.04434329271316528, -0.34963294863700867, -0.3729109764099121, 0.09058842062950134, -0.4163326025009155, -0.10523414611816406, -0.7416737079620361, -0.45062556862831116, -0.43490302562713623, 0.1971854865550995, -0.8624848127365112, 0.04626684635877609, 0.8425182104110718, 0.302497923374176, -0.44438302516937256, 0.4195902943611145, 0.27805042266845703, 0.5508803129196167, -0.23351497948169708]\n",
            "[0.5744358897209167, 0.5882037281990051, 0.5128992795944214, -0.2882517874240875, 0.41211894154548645, -1.2030829191207886, -0.3244190812110901, 0.529994785785675, 0.18003509938716888, 0.2277033030986786, -0.5653476119041443, 0.9705369472503662, -0.14015734195709229, 0.2570168375968933, -0.6730359196662903, 0.2631840407848358, 0.24921831488609314, -0.13651525974273682, -0.3820998966693878, 0.4216872453689575, -0.04666047543287277, 0.2017887532711029, -0.299910306930542, -0.2509564757347107, -0.04747467488050461, 0.6409618258476257, 0.1047951877117157, -0.8500447869300842, 0.5837195515632629, -0.22157570719718933, 0.12998297810554504, -0.3297390341758728, -0.6341392993927002, 0.6205849051475525, -0.22500325739383698, -0.27717435359954834, 0.13523165881633759, -0.38183560967445374, 0.28800851106643677, 0.44398143887519836, -0.21277914941310883, 0.45149096846580505, -0.08611894398927689, 0.42449185252189636, 1.147631287574768, -0.08319666236639023, -0.20525065064430237, 0.6643568873405457, -0.6546076536178589, 0.19651876389980316, -0.615926206111908, -0.4344591498374939, 0.26135292649269104, 0.11878332495689392, 0.14005699753761292, -0.4352114200592041, 0.3916509747505188, 0.2846554219722748, -0.03815160319209099, -0.2528228759765625, 0.26042699813842773, -0.035155296325683594, 0.7664926648139954, 0.24731065332889557, 0.5755443572998047, 0.305370956659317, -0.9761290550231934, -0.2441721111536026, 0.2831439971923828, -0.24233633279800415, -1.3686363697052002, -0.27681320905685425, -0.1969786435365677, 0.731169581413269, -0.662207841873169, -0.1259564906358719, -0.8156931400299072, 0.08447010070085526, -0.6241610050201416, -0.4314791262149811, -0.2852644622325897, -0.46053868532180786, 0.14379768073558807, -0.5957696437835693, -1.108154535293579, 0.07814536988735199, 0.38771137595176697, -0.26520344614982605, 0.3747451901435852, 0.13990460336208344, 0.6122028827667236, -0.08274824917316437, 0.5621615648269653, -0.44558289647102356, -0.38946935534477234, -0.434060275554657, 0.0006956373108550906, -0.49494051933288574, 0.7613104581832886, -0.277436226606369, 0.2256840020418167, 0.03076975792646408, -0.31040698289871216, 0.6941249370574951, -0.3705393671989441, 0.009342926554381847, -0.15943586826324463, -0.048562776297330856, -0.17883910238742828, -0.2874409556388855, 0.3235640227794647, 0.1559019833803177, 0.1956055462360382, -0.15568919479846954, 0.11121372133493423, 0.5874035358428955, 0.36613962054252625, -0.193623349070549, 0.26879316568374634, 0.30392396450042725, 0.32405292987823486, 0.28217315673828125, 0.4067193269729614, 0.5385024547576904, 0.7589946985244751, -0.2797042727470398, 1.058011531829834, 0.32605400681495667, -0.44393882155418396, 0.13215714693069458, 0.05454853177070618, -0.33112210035324097, -0.15596643090248108, -0.10549290478229523, -0.1394452303647995, -0.2751792371273041, -0.3606128394603729, 0.5871642827987671, 0.2731291353702545, -0.49708449840545654, 0.10445185005664825, 0.2972540259361267, -0.20569106936454773, 0.14474189281463623, 0.10629640519618988, -0.33731168508529663, 0.550673246383667, -0.2184009552001953, 0.15290462970733643, 0.021367449313402176, 0.4917786717414856, -0.5935943126678467, -0.0870496928691864, -0.2341257929801941, 0.37779298424720764, -0.06525566428899765, -0.3812624514102936, -0.5866143703460693, -0.12366683781147003, 0.09048090130090714, 0.18611067533493042, -0.29311320185661316, -0.4561750888824463, 0.194504052400589, 0.4458000659942627, 0.013030154630541801, 0.061608344316482544, -0.06585881114006042, -0.14189153909683228, -0.7876643538475037, -0.718776524066925, -0.6086292266845703, 0.3168412148952484, 0.43002763390541077, 0.32008424401283264, 0.03251282125711441, -0.7220050096511841, 0.11519059538841248, 0.16227468848228455, -1.0607290267944336, -0.5313028693199158, -0.06780402362346649, 0.06963540613651276, -0.4834345877170563, 0.28529834747314453, -0.25260308384895325, -0.16989420354366302, -0.27976012229919434, -0.10728433728218079, -0.24171969294548035, -0.9576107263565063, -0.16383355855941772, -0.07845275849103928, 0.5956929326057434, 0.22765092551708221, 0.04825730249285698, 0.544710099697113, 0.08585468679666519, -0.27953383326530457, -0.3973008096218109]\n"
          ],
          "name": "stdout"
        }
      ]
    },
    {
      "cell_type": "code",
      "metadata": {
        "id": "yYw6tSrTlQe3",
        "colab_type": "code",
        "colab": {
          "base_uri": "https://localhost:8080/",
          "height": 816
        },
        "outputId": "d1d32e6e-12ef-4f03-b6bc-aa9d0e5d0d66"
      },
      "source": [
        "### Generate new embeddings for source genes using SMOTE\n",
        "\n",
        "counter_src = Counter(y_dataset_src)\n",
        "print(counter_src)\n",
        "oversample_src = SMOTE()\n",
        "X_dataset_src_oversampled, y_dataset_src_oversampled = oversample_src.fit_resample(np.array(X_dataset_src), np.array(y_dataset_src))\n",
        "counter = Counter(y_dataset_src_oversampled)\n",
        "print(counter)\n",
        "print(type(X_dataset_src_oversampled))\n",
        "print(len(X_dataset_src_oversampled))\n",
        "print(len(y_dataset_src_oversampled))"
      ],
      "execution_count": null,
      "outputs": [
        {
          "output_type": "stream",
          "text": [
            "Counter({7: 218, 10: 40, 19: 36, 4: 32, 20: 24, 14: 23, 15: 23, 8: 21, 11: 20, 12: 20, 3: 16, 6: 16, 2: 15, 16: 12, 5: 10, 9: 10, 13: 9, 0: 8, 1: 8, 17: 7, 18: 7, 21: 6})\n",
            "Counter({0: 218, 1: 218, 2: 218, 3: 218, 4: 218, 5: 218, 6: 218, 7: 218, 8: 218, 9: 218, 10: 218, 11: 218, 12: 218, 13: 218, 14: 218, 15: 218, 16: 218, 17: 218, 18: 218, 19: 218, 20: 218, 21: 218})\n",
            "<class 'numpy.ndarray'>\n",
            "4796\n",
            "4796\n"
          ],
          "name": "stdout"
        },
        {
          "output_type": "stream",
          "text": [
            "/usr/local/lib/python3.6/dist-packages/sklearn/utils/deprecation.py:87: FutureWarning: Function safe_indexing is deprecated; safe_indexing is deprecated in version 0.22 and will be removed in version 0.24.\n",
            "  warnings.warn(msg, category=FutureWarning)\n",
            "/usr/local/lib/python3.6/dist-packages/sklearn/utils/deprecation.py:87: FutureWarning: Function safe_indexing is deprecated; safe_indexing is deprecated in version 0.22 and will be removed in version 0.24.\n",
            "  warnings.warn(msg, category=FutureWarning)\n",
            "/usr/local/lib/python3.6/dist-packages/sklearn/utils/deprecation.py:87: FutureWarning: Function safe_indexing is deprecated; safe_indexing is deprecated in version 0.22 and will be removed in version 0.24.\n",
            "  warnings.warn(msg, category=FutureWarning)\n",
            "/usr/local/lib/python3.6/dist-packages/sklearn/utils/deprecation.py:87: FutureWarning: Function safe_indexing is deprecated; safe_indexing is deprecated in version 0.22 and will be removed in version 0.24.\n",
            "  warnings.warn(msg, category=FutureWarning)\n",
            "/usr/local/lib/python3.6/dist-packages/sklearn/utils/deprecation.py:87: FutureWarning: Function safe_indexing is deprecated; safe_indexing is deprecated in version 0.22 and will be removed in version 0.24.\n",
            "  warnings.warn(msg, category=FutureWarning)\n",
            "/usr/local/lib/python3.6/dist-packages/sklearn/utils/deprecation.py:87: FutureWarning: Function safe_indexing is deprecated; safe_indexing is deprecated in version 0.22 and will be removed in version 0.24.\n",
            "  warnings.warn(msg, category=FutureWarning)\n",
            "/usr/local/lib/python3.6/dist-packages/sklearn/utils/deprecation.py:87: FutureWarning: Function safe_indexing is deprecated; safe_indexing is deprecated in version 0.22 and will be removed in version 0.24.\n",
            "  warnings.warn(msg, category=FutureWarning)\n",
            "/usr/local/lib/python3.6/dist-packages/sklearn/utils/deprecation.py:87: FutureWarning: Function safe_indexing is deprecated; safe_indexing is deprecated in version 0.22 and will be removed in version 0.24.\n",
            "  warnings.warn(msg, category=FutureWarning)\n",
            "/usr/local/lib/python3.6/dist-packages/sklearn/utils/deprecation.py:87: FutureWarning: Function safe_indexing is deprecated; safe_indexing is deprecated in version 0.22 and will be removed in version 0.24.\n",
            "  warnings.warn(msg, category=FutureWarning)\n",
            "/usr/local/lib/python3.6/dist-packages/sklearn/utils/deprecation.py:87: FutureWarning: Function safe_indexing is deprecated; safe_indexing is deprecated in version 0.22 and will be removed in version 0.24.\n",
            "  warnings.warn(msg, category=FutureWarning)\n",
            "/usr/local/lib/python3.6/dist-packages/sklearn/utils/deprecation.py:87: FutureWarning: Function safe_indexing is deprecated; safe_indexing is deprecated in version 0.22 and will be removed in version 0.24.\n",
            "  warnings.warn(msg, category=FutureWarning)\n",
            "/usr/local/lib/python3.6/dist-packages/sklearn/utils/deprecation.py:87: FutureWarning: Function safe_indexing is deprecated; safe_indexing is deprecated in version 0.22 and will be removed in version 0.24.\n",
            "  warnings.warn(msg, category=FutureWarning)\n",
            "/usr/local/lib/python3.6/dist-packages/sklearn/utils/deprecation.py:87: FutureWarning: Function safe_indexing is deprecated; safe_indexing is deprecated in version 0.22 and will be removed in version 0.24.\n",
            "  warnings.warn(msg, category=FutureWarning)\n",
            "/usr/local/lib/python3.6/dist-packages/sklearn/utils/deprecation.py:87: FutureWarning: Function safe_indexing is deprecated; safe_indexing is deprecated in version 0.22 and will be removed in version 0.24.\n",
            "  warnings.warn(msg, category=FutureWarning)\n",
            "/usr/local/lib/python3.6/dist-packages/sklearn/utils/deprecation.py:87: FutureWarning: Function safe_indexing is deprecated; safe_indexing is deprecated in version 0.22 and will be removed in version 0.24.\n",
            "  warnings.warn(msg, category=FutureWarning)\n",
            "/usr/local/lib/python3.6/dist-packages/sklearn/utils/deprecation.py:87: FutureWarning: Function safe_indexing is deprecated; safe_indexing is deprecated in version 0.22 and will be removed in version 0.24.\n",
            "  warnings.warn(msg, category=FutureWarning)\n",
            "/usr/local/lib/python3.6/dist-packages/sklearn/utils/deprecation.py:87: FutureWarning: Function safe_indexing is deprecated; safe_indexing is deprecated in version 0.22 and will be removed in version 0.24.\n",
            "  warnings.warn(msg, category=FutureWarning)\n",
            "/usr/local/lib/python3.6/dist-packages/sklearn/utils/deprecation.py:87: FutureWarning: Function safe_indexing is deprecated; safe_indexing is deprecated in version 0.22 and will be removed in version 0.24.\n",
            "  warnings.warn(msg, category=FutureWarning)\n",
            "/usr/local/lib/python3.6/dist-packages/sklearn/utils/deprecation.py:87: FutureWarning: Function safe_indexing is deprecated; safe_indexing is deprecated in version 0.22 and will be removed in version 0.24.\n",
            "  warnings.warn(msg, category=FutureWarning)\n",
            "/usr/local/lib/python3.6/dist-packages/sklearn/utils/deprecation.py:87: FutureWarning: Function safe_indexing is deprecated; safe_indexing is deprecated in version 0.22 and will be removed in version 0.24.\n",
            "  warnings.warn(msg, category=FutureWarning)\n",
            "/usr/local/lib/python3.6/dist-packages/sklearn/utils/deprecation.py:87: FutureWarning: Function safe_indexing is deprecated; safe_indexing is deprecated in version 0.22 and will be removed in version 0.24.\n",
            "  warnings.warn(msg, category=FutureWarning)\n"
          ],
          "name": "stderr"
        }
      ]
    },
    {
      "cell_type": "code",
      "metadata": {
        "id": "A8FUzqNXwOTI",
        "colab_type": "code",
        "colab": {}
      },
      "source": [
        "### Prepare source dataset, a dictionary of this format:  hormone_name -> 216 samples, each sample being an embedding of 200 dimensions \n",
        "\n",
        "source_dict = {}\n",
        "for hormone, embedding in zip(y_dataset_src_oversampled, X_dataset_src_oversampled):\n",
        "    if y_map_src[hormone] in source_dict:\n",
        "        source_dict[y_map_src[hormone]].append(list(embedding))\n",
        "    \n",
        "    else:\n",
        "        source_dict[y_map_src[hormone]] = [list(embedding)]"
      ],
      "execution_count": null,
      "outputs": []
    },
    {
      "cell_type": "code",
      "metadata": {
        "id": "lMzVRczZyKTQ",
        "colab_type": "code",
        "colab": {
          "base_uri": "https://localhost:8080/",
          "height": 34
        },
        "outputId": "70dded74-9e43-496c-e718-4fd5eb50015f"
      },
      "source": [
        "len(source_dict.keys())"
      ],
      "execution_count": null,
      "outputs": [
        {
          "output_type": "execute_result",
          "data": {
            "text/plain": [
              "22"
            ]
          },
          "metadata": {
            "tags": []
          },
          "execution_count": 18
        }
      ]
    },
    {
      "cell_type": "code",
      "metadata": {
        "id": "pNvB3OWF09Gl",
        "colab_type": "code",
        "colab": {
          "base_uri": "https://localhost:8080/",
          "height": 122
        },
        "outputId": "a6968677-fd75-4412-f37a-335dfa3a196f"
      },
      "source": [
        "X_dataset_tar = []\n",
        "y_dataset_tar = []\n",
        "\n",
        "hormone_count = 0\n",
        "count_list = []\n",
        "\n",
        "y_map_tar = {}\n",
        "for hormone in horm_gene.keys():\n",
        "    src_num_count = len(horm_gene[hormone]['source'])   \n",
        "    tar_num_count = len(horm_gene[hormone]['target'])\n",
        "\n",
        "    if src_num_count >= 6 and tar_num_count>=6:\n",
        "        y_map_tar[hormone_count] = hormone\n",
        "        count_list.append(tar_num_count)\n",
        "        if hormone in initial_embeddings.keys():\n",
        "            for tar_gene in horm_gene[hormone]['target']:\n",
        "\n",
        "                if tar_gene.lower() in initial_embeddings.keys():\n",
        "                    target_gene = tar_gene.lower()\n",
        "                    X_dataset_tar.append(initial_embeddings[target_gene])\n",
        "                    y_dataset_tar.append(hormone_count)\n",
        "\n",
        "                elif tar_gene.lower() in extra_embeddings.keys():\n",
        "                    target_gene = tar_gene.lower()\n",
        "                    X_dataset_tar.append(extra_embeddings[target_gene])\n",
        "                    y_dataset_tar.append(hormone_count)\n",
        "\n",
        "            hormone_count = hormone_count + 1\n",
        "\n",
        "        elif hormone.lower() in extra_embeddings.keys():\n",
        "            for tar_gene in horm_gene[hormone]['target']:\n",
        "\n",
        "                if tar_gene.lower() in initial_embeddings.keys():\n",
        "                    target_gene = tar_gene.lower()\n",
        "                    X_dataset_tar.append(initial_embeddings[target_gene])\n",
        "                    y_dataset_tar.append(hormone_count)\n",
        "\n",
        "                elif tar_gene.lower() in extra_embeddings.keys():\n",
        "                    target_gene = tar_gene.lower()\n",
        "                    X_dataset_tar.append(extra_embeddings[target_gene])\n",
        "                    y_dataset_tar.append(hormone_count)\n",
        "\n",
        "            hormone_count = hormone_count + 1\n",
        "\n",
        "print(y_dataset_tar)\n",
        "print(len(X_dataset_tar[0]))\n",
        "print(count_list)\n",
        "print(X_dataset_tar[0])\n",
        "print(X_dataset_tar[1])"
      ],
      "execution_count": null,
      "outputs": [
        {
          "output_type": "stream",
          "text": [
            "[0, 0, 0, 0, 0, 0, 0, 0, 0, 0, 0, 0, 0, 0, 0, 0, 0, 0, 0, 0, 0, 0, 0, 0, 0, 0, 0, 0, 1, 1, 1, 1, 1, 1, 1, 1, 1, 1, 1, 1, 1, 1, 1, 1, 1, 1, 1, 1, 1, 1, 1, 1, 1, 1, 1, 1, 2, 2, 2, 2, 2, 2, 2, 3, 3, 3, 3, 3, 3, 4, 4, 4, 4, 4, 4, 4, 4, 4, 4, 4, 4, 4, 4, 4, 4, 4, 4, 4, 4, 4, 4, 4, 4, 4, 4, 4, 4, 4, 4, 4, 4, 4, 4, 4, 4, 4, 4, 4, 4, 4, 4, 4, 4, 4, 4, 4, 4, 4, 4, 4, 4, 4, 4, 4, 4, 4, 4, 4, 4, 4, 4, 4, 4, 4, 4, 4, 4, 4, 4, 4, 4, 4, 4, 4, 4, 4, 4, 4, 4, 4, 4, 4, 4, 4, 4, 4, 4, 4, 4, 4, 4, 4, 4, 4, 4, 4, 4, 4, 4, 4, 4, 4, 4, 4, 4, 4, 4, 4, 4, 4, 4, 4, 4, 4, 4, 4, 4, 4, 4, 4, 4, 4, 4, 4, 4, 4, 4, 4, 4, 4, 4, 4, 4, 4, 4, 4, 4, 4, 4, 4, 4, 4, 4, 4, 4, 4, 4, 4, 4, 4, 4, 4, 5, 5, 5, 5, 5, 5, 5, 5, 5, 5, 5, 5, 5, 5, 5, 5, 5, 5, 5, 5, 5, 5, 5, 5, 5, 5, 5, 5, 5, 5, 5, 5, 5, 5, 5, 5, 6, 6, 6, 6, 6, 6, 6, 6, 6, 6, 6, 6, 6, 6, 6, 6, 6, 6, 6, 6, 6, 6, 6, 6, 6, 6, 6, 6, 6, 6, 6, 6, 6, 6, 6, 6, 6, 7, 7, 7, 7, 7, 7, 7, 7, 7, 7, 7, 7, 7, 7, 7, 7, 7, 7, 7, 7, 7, 7, 7, 7, 7, 7, 7, 7, 7, 7, 7, 7, 7, 7, 7, 7, 7, 7, 7, 7, 7, 7, 7, 7, 7, 7, 7, 7, 7, 7, 7, 7, 7, 7, 7, 7, 7, 7, 7, 7, 7, 7, 7, 7, 7, 7, 7, 7, 7, 7, 7, 7, 7, 7, 7, 7, 7, 7, 7, 7, 7, 7, 7, 7, 7, 7, 7, 7, 7, 7, 7, 7, 7, 7, 7, 7, 7, 7, 7, 7, 7, 7, 7, 7, 7, 7, 7, 7, 7, 7, 7, 7, 7, 7, 7, 7, 7, 7, 7, 7, 7, 7, 7, 7, 7, 7, 7, 7, 7, 7, 7, 7, 7, 7, 7, 7, 7, 7, 7, 7, 7, 7, 7, 7, 7, 7, 7, 7, 7, 7, 7, 7, 7, 7, 7, 7, 7, 7, 7, 7, 7, 7, 7, 7, 7, 7, 7, 7, 7, 7, 7, 7, 7, 7, 7, 7, 7, 7, 7, 7, 7, 7, 7, 7, 7, 7, 7, 7, 7, 7, 7, 7, 7, 7, 7, 7, 7, 7, 7, 7, 7, 7, 7, 7, 7, 7, 7, 7, 7, 7, 7, 7, 7, 7, 7, 7, 7, 7, 7, 7, 7, 7, 7, 7, 7, 7, 7, 7, 7, 7, 7, 7, 7, 7, 7, 7, 7, 7, 7, 7, 7, 7, 7, 7, 7, 7, 7, 7, 7, 7, 7, 7, 7, 7, 7, 7, 7, 7, 7, 7, 7, 7, 7, 7, 7, 7, 7, 7, 7, 7, 7, 7, 7, 7, 7, 7, 7, 7, 7, 7, 7, 7, 7, 7, 7, 7, 7, 7, 7, 7, 7, 7, 7, 7, 7, 7, 7, 7, 7, 7, 8, 8, 8, 8, 8, 8, 8, 8, 8, 8, 8, 8, 8, 8, 8, 8, 8, 8, 8, 8, 8, 8, 8, 8, 8, 8, 8, 8, 8, 8, 8, 8, 8, 8, 8, 8, 8, 8, 8, 8, 8, 8, 8, 8, 8, 8, 8, 8, 8, 8, 8, 9, 9, 9, 9, 9, 9, 9, 9, 10, 10, 10, 10, 10, 10, 10, 10, 10, 10, 10, 10, 10, 10, 10, 10, 10, 10, 10, 10, 10, 10, 10, 10, 10, 10, 10, 10, 10, 10, 10, 10, 10, 10, 10, 10, 10, 11, 11, 11, 11, 11, 11, 11, 11, 11, 11, 11, 11, 11, 11, 11, 11, 11, 11, 11, 11, 11, 11, 11, 11, 11, 11, 11, 11, 11, 11, 11, 11, 11, 11, 11, 11, 11, 11, 11, 11, 11, 11, 11, 11, 11, 11, 11, 11, 11, 11, 11, 11, 11, 11, 11, 11, 11, 11, 12, 12, 12, 12, 12, 12, 12, 12, 12, 12, 12, 12, 12, 12, 12, 12, 12, 12, 12, 12, 12, 12, 12, 12, 12, 12, 12, 12, 12, 12, 12, 12, 12, 12, 12, 12, 12, 12, 12, 12, 12, 12, 12, 12, 12, 12, 12, 12, 12, 12, 12, 12, 12, 12, 12, 12, 12, 12, 13, 13, 13, 13, 13, 13, 13, 13, 13, 13, 13, 13, 13, 13, 13, 13, 13, 13, 13, 13, 13, 13, 13, 13, 13, 13, 13, 13, 13, 13, 13, 13, 13, 13, 13, 13, 13, 13, 13, 13, 14, 14, 14, 14, 14, 14, 14, 14, 14, 14, 14, 14, 14, 14, 15, 15, 15, 15, 15, 15, 15, 15, 15, 15, 15, 15, 16, 16, 16, 16, 16, 16, 16, 16, 16, 16, 16, 16, 16, 16, 16, 16, 16, 16, 16, 16, 16, 16, 16, 16, 16, 16, 16, 16, 16, 16, 16, 16, 16, 16, 16, 16, 16, 16, 16, 16, 16, 16, 16, 16, 16, 16, 16, 16, 16, 16, 16, 17, 17, 17, 17, 17, 17, 18, 18, 18, 18, 18, 18, 18, 18, 18, 18, 18, 18, 18, 18, 18, 18, 18, 18, 18, 19, 19, 19, 19, 19, 19, 19, 19, 19, 19, 19, 19, 19, 19, 19, 19, 19, 19, 19, 19, 19, 19, 19, 19, 19, 19, 19, 19, 19, 19, 19, 19, 19, 19, 19, 19, 19, 19, 19, 19, 19, 19, 19, 19, 19, 19, 19, 19, 19, 19, 19, 19, 19, 19, 19, 19, 19, 19, 19, 19, 19, 19, 19, 19, 19, 19, 19, 19, 19, 19, 19, 19, 19, 19, 19, 19, 19, 19, 19, 19, 19, 19, 19, 19, 19, 19, 19, 19, 19, 19, 19, 19, 19, 19, 19, 19, 19, 19, 19, 19, 19, 19, 19, 19, 19, 19, 19, 19, 19, 19, 19, 19, 19, 19, 19, 19, 19, 19, 19, 19, 19, 19, 19, 19, 19, 19, 19, 19, 19, 19, 19, 19, 19, 19, 19, 19, 19, 19, 19, 19, 19, 19, 19, 19, 19, 19, 19, 19, 19, 19, 20, 20, 20, 20, 20, 20, 20, 20, 20, 20, 20, 20, 20, 20, 20, 20, 20, 20, 20, 21, 21, 21, 21, 21, 21, 21, 21]\n",
            "200\n",
            "[28, 28, 7, 6, 153, 36, 37, 300, 51, 8, 37, 58, 58, 40, 14, 12, 51, 6, 19, 150, 19, 8]\n",
            "[0.21080395579338074, 0.43940338492393494, 0.7920151352882385, 1.5190644264221191, -0.12513701617717743, -1.2162041664123535, -0.4513303339481354, 0.34346356987953186, 0.9464854001998901, 0.07473482191562653, -0.596061110496521, 0.7406525611877441, -0.11819379031658173, 0.1871117651462555, -0.18022827804088593, -0.05729580298066139, -0.1544279307126999, -0.4022170305252075, 0.6565221548080444, -0.2958051860332489, 0.24313293397426605, -0.30635735392570496, -0.04640140384435654, -0.16236329078674316, 0.5302030444145203, 0.5357694029808044, 0.12718065083026886, -1.0820033550262451, 0.22082364559173584, -0.024846956133842468, 0.16266685724258423, 0.03690553084015846, 0.10614313930273056, 0.35008156299591064, 0.14793123304843903, -0.035573240369558334, 0.3087103068828583, -0.43668419122695923, -0.5493301749229431, 0.10465478152036667, -0.4344868063926697, -0.003963081166148186, -0.04487783461809158, 0.23246046900749207, 0.3577624261379242, -0.5563998222351074, -0.10363692790269852, 0.028791677206754684, -0.17318961024284363, -0.16267110407352448, -0.43654629588127136, -0.14464782178401947, 0.07372880727052689, -0.09012573212385178, 0.11650917679071426, -0.3309810757637024, -0.0073097581043839455, 0.11334431171417236, -0.6211849451065063, -0.23394781351089478, -0.28650742769241333, -0.38134050369262695, 0.8209468722343445, -0.958094596862793, 0.4430563449859619, 0.9629558324813843, -0.18262115120887756, -0.4283418357372284, -0.2781391739845276, -0.14340916275978088, -0.1860550045967102, 0.1642177850008011, 0.2884625792503357, -0.06802388280630112, 0.6310077905654907, -0.16535751521587372, -0.33203384280204773, 0.6572005152702332, -0.1759195476770401, -0.6373668909072876, -0.25023651123046875, -0.10070331394672394, -0.1991017460823059, 0.264774888753891, -0.5650128126144409, 0.18482224643230438, -0.1737465262413025, -0.455649197101593, 0.2906150221824646, 0.04524654895067215, 0.5959091782569885, -0.010064403526484966, 1.0586280822753906, -0.023245319724082947, -0.15345560014247894, -0.7271981835365295, -0.6074382662773132, -0.28981348872184753, 0.38105395436286926, -0.1596800535917282, 0.6288642287254333, 0.045356567949056625, -0.24947775900363922, 0.7307206988334656, -0.30245503783226013, 0.4002484679222107, -0.458792507648468, -0.3764311969280243, 0.13458377122879028, -0.09073806554079056, -0.4614292085170746, 1.2619388103485107, 0.10805343836545944, -0.24941420555114746, -0.0495712049305439, 0.5684158802032471, 0.2409132719039917, -0.026592979207634926, -0.2298084944486618, 0.43339183926582336, 0.20055998861789703, 0.19418393075466156, -0.41744691133499146, 0.0675344169139862, -0.3793991208076477, 0.614944338798523, 0.9746441841125488, 0.08062220364809036, -0.29411762952804565, -0.07957766950130463, 0.44958028197288513, -0.17906729876995087, -0.3819276988506317, 1.110004186630249, 0.09187262505292892, -0.2230738252401352, 0.16131500899791718, 0.25189629197120667, 0.2679285407066345, -0.5272841453552246, 0.7787525653839111, 0.269219309091568, -0.112737737596035, 0.49214354157447815, 0.8069913387298584, -0.14779280126094818, 0.7398157715797424, 0.3402707576751709, 0.3575190007686615, -0.6527917385101318, 0.13864794373512268, 0.7029136419296265, 0.30800575017929077, -0.0656154528260231, 0.446658730506897, -0.15203440189361572, -0.07616310566663742, 0.20926950871944427, -0.012681139633059502, -0.15147502720355988, -0.3303695023059845, -0.5983919501304626, 0.07819945365190506, -0.7750251889228821, 0.44825100898742676, -1.2267111539840698, -0.2067500799894333, -0.2966386079788208, -0.6448633670806885, -0.5126184225082397, -0.7313132882118225, -1.173673391342163, -0.0723886787891388, 0.4604755640029907, -0.0070333643816411495, -0.30382469296455383, -0.05554948002099991, -0.3458968698978424, 0.08512068539857864, -1.3088809251785278, -0.26311519742012024, 0.8493763208389282, 0.3659537434577942, 0.17143599689006805, -0.275858610868454, -0.09246654808521271, -0.06448787450790405, 0.47053349018096924, -0.6663785576820374, -0.3116300404071808, -0.6057668328285217, -0.31459298729896545, -0.9514051675796509, 0.123362697660923, 0.3359583020210266, -0.8460076451301575, 0.23774516582489014, -0.186620831489563, -0.1166425421833992, 0.7140047550201416]\n",
            "[0.22496910393238068, 0.1904323399066925, 0.6233437061309814, 1.12624192237854, -0.20386868715286255, -1.383503794670105, -0.3900815546512604, 0.19531643390655518, -0.26331132650375366, 0.13370953500270844, -0.40809690952301025, 1.3340531587600708, 0.3568810224533081, 0.8851469159126282, 0.09833269566297531, 0.11397568881511688, 0.23825785517692566, -0.9517513513565063, 0.9685413241386414, -0.5104804039001465, -0.20058758556842804, -0.1871214509010315, 0.4592922031879425, -0.3208465874195099, 0.048894234001636505, 0.17686539888381958, 0.26600706577301025, -1.2227818965911865, 0.4357171952724457, 0.33368635177612305, 0.19595041871070862, -0.33021441102027893, -0.18029257655143738, 0.6972730159759521, 0.08545520901679993, -0.34208744764328003, -0.13875055313110352, 0.18280790746212006, 0.14321757853031158, 0.39744436740875244, -0.5060847997665405, -0.2164948582649231, 0.06290194392204285, 0.013334282673895359, 0.9342054128646851, -0.48468896746635437, -0.31546515226364136, 0.013518238440155983, 0.2408556044101715, 0.4214451313018799, -0.7430615425109863, -0.1165824681520462, 0.20188148319721222, 0.11802757531404495, 0.1687781810760498, -0.833046555519104, 0.5777758955955505, -0.21681945025920868, -0.3256300687789917, -0.1075749322772026, 0.3110027015209198, -1.0026001930236816, 0.7002627849578857, -0.9969804286956787, 0.6606875658035278, 0.41492152214050293, 0.08113756775856018, -0.2995840907096863, -0.15499575436115265, -0.2179540991783142, -0.732520580291748, -0.7558830380439758, -1.0128185749053955, -0.3649522364139557, 0.005888768471777439, -1.001145362854004, -0.21498887240886688, 1.3259960412979126, -0.04751591756939888, -0.532007098197937, -0.09263444691896439, -0.6408072113990784, -0.15069888532161713, 0.7502773404121399, 0.31432420015335083, 0.082065649330616, -0.2847222089767456, -0.08532969653606415, 0.37542614340782166, 0.8162661194801331, 0.20971769094467163, -0.38256022334098816, 0.9135757684707642, 0.22385087609291077, -0.3194236159324646, -0.349078506231308, -0.14744579792022705, -0.3913431465625763, 0.2784665822982788, -0.3349379003047943, 0.1682225465774536, 0.33314499258995056, -0.5125080347061157, 0.2784156799316406, -0.930279016494751, 0.45964503288269043, -0.2519008219242096, 0.17935772240161896, 0.08331344276666641, -0.34807512164115906, -0.12518148124217987, 1.1994062662124634, -0.16866649687290192, -0.26603397727012634, 0.16211582720279694, 0.7752347588539124, 0.4996457099914551, 0.5387775897979736, -0.25548169016838074, -0.9348353743553162, -0.0992354154586792, -0.05837869271636009, -0.6503856778144836, 0.09739914536476135, 0.4762198328971863, -0.14912231266498566, 0.6243669390678406, -0.05915364995598793, 0.1317305862903595, 0.1411055624485016, 0.17108580470085144, -0.04844707250595093, -0.5079626441001892, 0.5884494185447693, 0.09820100665092468, -0.18819266557693481, -0.40070855617523193, -0.5456821918487549, 0.18289902806282043, -0.5797885060310364, 0.5901586413383484, 0.5411130785942078, -0.30798351764678955, 0.42675530910491943, 0.47411850094795227, 0.09594426304101944, 1.1116541624069214, 1.1315186023712158, 0.889668881893158, -0.23256459832191467, 0.3523574471473694, 0.599450409412384, 0.403617262840271, -0.23601911962032318, 0.3550863265991211, -0.17665183544158936, -0.2042025625705719, -0.2753935754299164, 0.16668812930583954, 0.38231852650642395, -0.7244797348976135, -0.8661369681358337, 0.17994169890880585, 0.2654322385787964, 0.34110045433044434, -0.5509502291679382, -0.2411746084690094, 0.04149894788861275, -0.8284790515899658, -0.4913041889667511, -0.6057915687561035, -0.6908489465713501, -0.07337077707052231, 0.8694930076599121, 0.3479856252670288, -0.22182637453079224, -0.01129564456641674, -0.1950404942035675, 0.028594376519322395, -0.3514590561389923, -0.29824867844581604, 0.47700387239456177, 0.44294944405555725, 0.45861291885375977, 0.015328606590628624, 0.3458213210105896, -0.5291604399681091, 0.0506851002573967, -0.6899373531341553, 0.15213757753372192, -0.23921509087085724, -0.24530348181724548, -0.7622911334037781, 0.8741887807846069, 0.44981664419174194, 0.04362552613019943, -0.17206573486328125, -0.3470595180988312, 0.1326688528060913, -0.613573431968689]\n"
          ],
          "name": "stdout"
        }
      ]
    },
    {
      "cell_type": "code",
      "metadata": {
        "id": "iRaM-b-z1LpW",
        "colab_type": "code",
        "colab": {
          "base_uri": "https://localhost:8080/",
          "height": 816
        },
        "outputId": "a10a8570-a839-45c5-b3ab-a80fdf7d69c8"
      },
      "source": [
        "counter_tar = Counter(y_dataset_tar)\n",
        "print(counter_tar)\n",
        "oversample_tar = SMOTE()\n",
        "X_dataset_tar_oversampled, y_dataset_tar_oversampled = oversample_tar.fit_resample(np.array(X_dataset_tar), np.array(y_dataset_tar))\n",
        "counter = Counter(y_dataset_tar_oversampled)\n",
        "print(counter)\n",
        "print(type(X_dataset_tar_oversampled))\n",
        "print(len(X_dataset_tar_oversampled))\n",
        "print(len(y_dataset_tar_oversampled))"
      ],
      "execution_count": null,
      "outputs": [
        {
          "output_type": "stream",
          "text": [
            "Counter({7: 300, 4: 153, 19: 150, 11: 58, 12: 58, 8: 51, 16: 51, 13: 40, 6: 37, 10: 37, 5: 36, 0: 28, 1: 28, 18: 19, 20: 19, 14: 14, 15: 12, 9: 8, 21: 8, 2: 7, 3: 6, 17: 6})\n",
            "Counter({0: 300, 1: 300, 2: 300, 3: 300, 4: 300, 5: 300, 6: 300, 7: 300, 8: 300, 9: 300, 10: 300, 11: 300, 12: 300, 13: 300, 14: 300, 15: 300, 16: 300, 17: 300, 18: 300, 19: 300, 20: 300, 21: 300})\n",
            "<class 'numpy.ndarray'>\n",
            "6600\n",
            "6600\n"
          ],
          "name": "stdout"
        },
        {
          "output_type": "stream",
          "text": [
            "/usr/local/lib/python3.6/dist-packages/sklearn/utils/deprecation.py:87: FutureWarning: Function safe_indexing is deprecated; safe_indexing is deprecated in version 0.22 and will be removed in version 0.24.\n",
            "  warnings.warn(msg, category=FutureWarning)\n",
            "/usr/local/lib/python3.6/dist-packages/sklearn/utils/deprecation.py:87: FutureWarning: Function safe_indexing is deprecated; safe_indexing is deprecated in version 0.22 and will be removed in version 0.24.\n",
            "  warnings.warn(msg, category=FutureWarning)\n",
            "/usr/local/lib/python3.6/dist-packages/sklearn/utils/deprecation.py:87: FutureWarning: Function safe_indexing is deprecated; safe_indexing is deprecated in version 0.22 and will be removed in version 0.24.\n",
            "  warnings.warn(msg, category=FutureWarning)\n",
            "/usr/local/lib/python3.6/dist-packages/sklearn/utils/deprecation.py:87: FutureWarning: Function safe_indexing is deprecated; safe_indexing is deprecated in version 0.22 and will be removed in version 0.24.\n",
            "  warnings.warn(msg, category=FutureWarning)\n",
            "/usr/local/lib/python3.6/dist-packages/sklearn/utils/deprecation.py:87: FutureWarning: Function safe_indexing is deprecated; safe_indexing is deprecated in version 0.22 and will be removed in version 0.24.\n",
            "  warnings.warn(msg, category=FutureWarning)\n",
            "/usr/local/lib/python3.6/dist-packages/sklearn/utils/deprecation.py:87: FutureWarning: Function safe_indexing is deprecated; safe_indexing is deprecated in version 0.22 and will be removed in version 0.24.\n",
            "  warnings.warn(msg, category=FutureWarning)\n",
            "/usr/local/lib/python3.6/dist-packages/sklearn/utils/deprecation.py:87: FutureWarning: Function safe_indexing is deprecated; safe_indexing is deprecated in version 0.22 and will be removed in version 0.24.\n",
            "  warnings.warn(msg, category=FutureWarning)\n",
            "/usr/local/lib/python3.6/dist-packages/sklearn/utils/deprecation.py:87: FutureWarning: Function safe_indexing is deprecated; safe_indexing is deprecated in version 0.22 and will be removed in version 0.24.\n",
            "  warnings.warn(msg, category=FutureWarning)\n",
            "/usr/local/lib/python3.6/dist-packages/sklearn/utils/deprecation.py:87: FutureWarning: Function safe_indexing is deprecated; safe_indexing is deprecated in version 0.22 and will be removed in version 0.24.\n",
            "  warnings.warn(msg, category=FutureWarning)\n",
            "/usr/local/lib/python3.6/dist-packages/sklearn/utils/deprecation.py:87: FutureWarning: Function safe_indexing is deprecated; safe_indexing is deprecated in version 0.22 and will be removed in version 0.24.\n",
            "  warnings.warn(msg, category=FutureWarning)\n",
            "/usr/local/lib/python3.6/dist-packages/sklearn/utils/deprecation.py:87: FutureWarning: Function safe_indexing is deprecated; safe_indexing is deprecated in version 0.22 and will be removed in version 0.24.\n",
            "  warnings.warn(msg, category=FutureWarning)\n",
            "/usr/local/lib/python3.6/dist-packages/sklearn/utils/deprecation.py:87: FutureWarning: Function safe_indexing is deprecated; safe_indexing is deprecated in version 0.22 and will be removed in version 0.24.\n",
            "  warnings.warn(msg, category=FutureWarning)\n",
            "/usr/local/lib/python3.6/dist-packages/sklearn/utils/deprecation.py:87: FutureWarning: Function safe_indexing is deprecated; safe_indexing is deprecated in version 0.22 and will be removed in version 0.24.\n",
            "  warnings.warn(msg, category=FutureWarning)\n",
            "/usr/local/lib/python3.6/dist-packages/sklearn/utils/deprecation.py:87: FutureWarning: Function safe_indexing is deprecated; safe_indexing is deprecated in version 0.22 and will be removed in version 0.24.\n",
            "  warnings.warn(msg, category=FutureWarning)\n",
            "/usr/local/lib/python3.6/dist-packages/sklearn/utils/deprecation.py:87: FutureWarning: Function safe_indexing is deprecated; safe_indexing is deprecated in version 0.22 and will be removed in version 0.24.\n",
            "  warnings.warn(msg, category=FutureWarning)\n",
            "/usr/local/lib/python3.6/dist-packages/sklearn/utils/deprecation.py:87: FutureWarning: Function safe_indexing is deprecated; safe_indexing is deprecated in version 0.22 and will be removed in version 0.24.\n",
            "  warnings.warn(msg, category=FutureWarning)\n",
            "/usr/local/lib/python3.6/dist-packages/sklearn/utils/deprecation.py:87: FutureWarning: Function safe_indexing is deprecated; safe_indexing is deprecated in version 0.22 and will be removed in version 0.24.\n",
            "  warnings.warn(msg, category=FutureWarning)\n",
            "/usr/local/lib/python3.6/dist-packages/sklearn/utils/deprecation.py:87: FutureWarning: Function safe_indexing is deprecated; safe_indexing is deprecated in version 0.22 and will be removed in version 0.24.\n",
            "  warnings.warn(msg, category=FutureWarning)\n",
            "/usr/local/lib/python3.6/dist-packages/sklearn/utils/deprecation.py:87: FutureWarning: Function safe_indexing is deprecated; safe_indexing is deprecated in version 0.22 and will be removed in version 0.24.\n",
            "  warnings.warn(msg, category=FutureWarning)\n",
            "/usr/local/lib/python3.6/dist-packages/sklearn/utils/deprecation.py:87: FutureWarning: Function safe_indexing is deprecated; safe_indexing is deprecated in version 0.22 and will be removed in version 0.24.\n",
            "  warnings.warn(msg, category=FutureWarning)\n",
            "/usr/local/lib/python3.6/dist-packages/sklearn/utils/deprecation.py:87: FutureWarning: Function safe_indexing is deprecated; safe_indexing is deprecated in version 0.22 and will be removed in version 0.24.\n",
            "  warnings.warn(msg, category=FutureWarning)\n"
          ],
          "name": "stderr"
        }
      ]
    },
    {
      "cell_type": "code",
      "metadata": {
        "id": "y2ZCqgXcyelK",
        "colab_type": "code",
        "colab": {}
      },
      "source": [
        "target_dict = {}\n",
        "for hormone, embedding in zip(y_dataset_tar_oversampled, X_dataset_tar_oversampled):\n",
        "    if y_map_tar[hormone] in target_dict:\n",
        "        target_dict[y_map_tar[hormone]].append(list(embedding))\n",
        "    \n",
        "    else:\n",
        "        target_dict[y_map_tar[hormone]] = [list(embedding)]"
      ],
      "execution_count": null,
      "outputs": []
    },
    {
      "cell_type": "markdown",
      "metadata": {
        "id": "PnBrMAjx5I1w",
        "colab_type": "text"
      },
      "source": [
        "## Random Sampling\n",
        "\n",
        "##### SMOTE generates 216 gene samples for homone source and 299 gene samples for hormone targers. Since we need equal number of source and target genes for each hormone, I randomly sampled 216 genes from target genes. "
      ]
    },
    {
      "cell_type": "code",
      "metadata": {
        "id": "wU-Kl2KhyoHP",
        "colab_type": "code",
        "colab": {}
      },
      "source": [
        "for hormone in target_dict:\n",
        "    random_choices = np.random.choice(len(target_dict[hormone]), len(source_dict[hormone]))\n",
        "    \n",
        "    target_dict[hormone] = [list(target_dict[hormone][sample]) for sample in random_choices]\n",
        "    "
      ],
      "execution_count": null,
      "outputs": []
    },
    {
      "cell_type": "code",
      "metadata": {
        "id": "pzS4i1j40z_x",
        "colab_type": "code",
        "colab": {
          "base_uri": "https://localhost:8080/",
          "height": 34
        },
        "outputId": "c16f954d-e344-4169-88d1-4617a6538576"
      },
      "source": [
        "len(source_dict['Adrenaline']) == len(target_dict['Adrenaline'])"
      ],
      "execution_count": null,
      "outputs": [
        {
          "output_type": "execute_result",
          "data": {
            "text/plain": [
              "True"
            ]
          },
          "metadata": {
            "tags": []
          },
          "execution_count": 40
        }
      ]
    },
    {
      "cell_type": "code",
      "metadata": {
        "id": "luZgdfuT1A0l",
        "colab_type": "code",
        "colab": {
          "base_uri": "https://localhost:8080/",
          "height": 187
        },
        "outputId": "50fb879e-fb46-4ae9-b5f3-9509d78d30f2"
      },
      "source": [
        "dataset = {}\n",
        "dataset['source'] = source_dict\n",
        "dataset['target'] = target_dict\n",
        "\n",
        "print(dataset.keys())\n",
        "print('Number of hormones')\n",
        "print(len(dataset['source']))\n",
        "print(len(dataset['target']))\n",
        "print('Number of samples for a hormone')\n",
        "print(len(dataset['source']['Adrenaline']))\n",
        "print(len(dataset['target']['Adrenaline']))\n",
        "print('Dimension of embedding for each sample')\n",
        "print(len(dataset['source']['Adrenaline'][0]))\n",
        "print(len(dataset['target']['Adrenaline'][0]))"
      ],
      "execution_count": null,
      "outputs": [
        {
          "output_type": "stream",
          "text": [
            "dict_keys(['source', 'target'])\n",
            "Number of hormones\n",
            "22\n",
            "22\n",
            "Number of samples for a hormone\n",
            "218\n",
            "218\n",
            "Dimension of embedding for each sample\n",
            "200\n",
            "200\n"
          ],
          "name": "stdout"
        }
      ]
    },
    {
      "cell_type": "code",
      "metadata": {
        "id": "npcx_bNK2BWR",
        "colab_type": "code",
        "colab": {}
      },
      "source": [
        "with open('SMOTE_oversampled_dataset.json', 'w') as fp:\n",
        "    json.dump(dataset, fp)"
      ],
      "execution_count": null,
      "outputs": []
    },
    {
      "cell_type": "markdown",
      "metadata": {
        "id": "ygyWJW8rc8w6",
        "colab_type": "text"
      },
      "source": [
        "\n",
        "no_embedding = []\n",
        "emb_horm_gene = {}\n",
        "embedding_list = list(embeddings.keys())\n",
        "\n",
        "for hormone, genes in horm_gene.items():\n",
        "    if hormone in embedding_list:\n",
        "\n",
        "        source_list = []\n",
        "        target_list = []\n",
        "\n",
        "        for source_gene in genes['source']:\n",
        "            if source_gene.lower() in embedding_list:\n",
        "                source_list.append(source_gene.lower())\n",
        "\n",
        "            elif source_gene.lower() not in no_embedding:\n",
        "                print(source_gene.lower())\n",
        "                no_embedding.append(source_gene.lower())\n",
        "\n",
        "        for target_gene in genes['target']:\n",
        "            if target_gene.lower() in embedding_list:\n",
        "                target_list.append(target_gene.lower())\n",
        "\n",
        "            elif target_gene.lower() not in no_embedding:\n",
        "                print(target_gene.lower())\n",
        "                no_embedding.append(target_gene.lower())\n",
        "\n",
        "        emb_horm_gene[hormone] = {'source' : source_list, 'target' : target_list}\n",
        "\n",
        "    else:\n",
        "        print(hormone)\n",
        "        no_embedding.append(hormone.lower())\n",
        "\n"
      ]
    },
    {
      "cell_type": "markdown",
      "metadata": {
        "id": "zE1K7rTyhhKn",
        "colab_type": "text"
      },
      "source": [
        "with open('hormone_gene_graph0.txt') as json_file:\n",
        "    graph = json.load(json_file)\n",
        "\n",
        "hormone_list = graph['pos'].keys()\n",
        "hormone_list"
      ]
    },
    {
      "cell_type": "code",
      "metadata": {
        "id": "VPibCBbk08T8",
        "colab_type": "code",
        "colab": {}
      },
      "source": [
        ""
      ],
      "execution_count": null,
      "outputs": []
    },
    {
      "cell_type": "markdown",
      "metadata": {
        "id": "f_0ew8bQt7Lw",
        "colab_type": "text"
      },
      "source": [
        "for horm in hormone_list:\n",
        "    print(len(graph['pos'][horm]), len(graph['neg'][horm]))"
      ]
    },
    {
      "cell_type": "markdown",
      "metadata": {
        "id": "rPWxFW8wm-P8",
        "colab_type": "text"
      },
      "source": [
        "print(graph['pos'].keys())\n",
        "print(len(graph['pos']['Cortisol']))"
      ]
    },
    {
      "cell_type": "markdown",
      "metadata": {
        "id": "d5eKoO3JnDK5",
        "colab_type": "text"
      },
      "source": [
        "X_dataset_pos = []\n",
        "y_dataset_pos = []\n",
        "\n",
        "hormone_count = 0\n",
        "count_list = []\n",
        "\n",
        "y_map = {}\n",
        "for hormone in graph['pos'].keys():\n",
        "    num_count = len(graph['pos'][hormone])   \n",
        "    \n",
        "    if num_count >= 6:\n",
        "        y_map[hormone_count] = hormone\n",
        "        count_list.append(num_count)\n",
        "        for pos_gene in graph['pos'][hormone]:\n",
        "            \n",
        "            X_dataset_pos.append(embeddings[hormone] + embeddings[pos_gene])\n",
        "            y_dataset_pos.append(hormone_count)\n",
        "\n",
        "        \n",
        "\n",
        "    \n",
        "        hormone_count = hormone_count + 1\n",
        "\n",
        "print(y_dataset_pos)\n",
        "print(len(X_dataset_pos[0]))\n",
        "print(count_list)\n",
        "print(X_dataset_pos[0])\n",
        "print(X_dataset_pos[1])"
      ]
    },
    {
      "cell_type": "markdown",
      "metadata": {
        "id": "ovwclpSNtXPE",
        "colab_type": "text"
      },
      "source": [
        "counter_pos = Counter(y_dataset_pos)\n",
        "print(counter_pos)\n",
        "oversample_pos = SMOTE()\n",
        "X_dataset_pos_oversampled, y_dataset_pos_oversampled = oversample_pos.fit_resample(np.array(X_dataset_pos), np.array(y_dataset_pos))\n",
        "counter = Counter(y_dataset_pos_oversampled)\n",
        "print(type(X_dataset_pos_oversampled))\n",
        "print(len(X_dataset_pos_oversampled))\n",
        "print(len(y_dataset_pos_oversampled))"
      ]
    },
    {
      "cell_type": "markdown",
      "metadata": {
        "id": "fPz4KylFF4Zy",
        "colab_type": "text"
      },
      "source": [
        "X_dataset_neg = []\n",
        "y_dataset_neg = []\n",
        "\n",
        "hormone_count = 0\n",
        "count_list = []\n",
        "\n",
        "y_map = {}\n",
        "for hormone in graph['neg'].keys():\n",
        "    num_count = len(graph['neg'][hormone])   \n",
        "    \n",
        "    if num_count >= 6:\n",
        "        y_map[hormone_count] = hormone\n",
        "        count_list.append(num_count)\n",
        "        for pos_gene in graph['neg'][hormone]:\n",
        "            \n",
        "            X_dataset_neg.append(embeddings[hormone] + embeddings[pos_gene])\n",
        "            y_dataset_neg.append(hormone_count)\n",
        "\n",
        "        \n",
        "\n",
        "    \n",
        "        hormone_count = hormone_count + 1\n",
        "\n",
        "print(y_dataset_neg)\n",
        "print(len(X_dataset_neg[0]))\n",
        "print(count_list)\n",
        "print(X_dataset_neg[0])\n",
        "print(X_dataset_neg[1])"
      ]
    },
    {
      "cell_type": "markdown",
      "metadata": {
        "id": "ni0_UwLZGFWV",
        "colab_type": "text"
      },
      "source": [
        "counter_neg = Counter(y_dataset_neg)\n",
        "print(counter_neg)\n",
        "oversample_neg = SMOTE()\n",
        "X_dataset_neg_oversampled, y_dataset_neg_oversampled = oversample_neg.fit_resample(np.array(X_dataset_neg), np.array(y_dataset_neg))\n",
        "counter = Counter(y_dataset_neg_oversampled)\n",
        "print(type(X_dataset_neg_oversampled))\n",
        "print(len(X_dataset_neg_oversampled))\n",
        "print(len(y_dataset_neg_oversampled))"
      ]
    },
    {
      "cell_type": "markdown",
      "metadata": {
        "id": "_HtpAP7dGIDW",
        "colab_type": "text"
      },
      "source": [
        "X_train = {}\n",
        "temp = {}\n",
        "\n",
        "#x_counter = 0\n",
        "for i,j in zip(y_dataset_pos_oversampled, X_dataset_pos_oversampled):\n",
        "    if y_map[i] not in temp.keys():\n",
        "        temp[y_map[i]] = []\n",
        "\n",
        "    temp[y_map[i]].append(j)\n",
        "    #x_counter += 1\n",
        "\n",
        "X_train['pos'] = temp\n",
        "\n",
        "temp = {}\n",
        "#x_counter = 0\n",
        "for i,j in zip(y_dataset_neg_oversampled, X_dataset_neg_oversampled):\n",
        "    if y_map[i] not in temp.keys():\n",
        "        temp[y_map[i]] = []\n",
        "\n",
        "    temp[y_map[i]].append(j)\n",
        "    #x_counter += 1\n",
        "\n",
        "X_train['neg'] = temp"
      ]
    },
    {
      "cell_type": "markdown",
      "metadata": {
        "id": "5m7u_W2NAJ6p",
        "colab_type": "text"
      },
      "source": [
        "print(X_train['pos']['Erythropoietin'])\n",
        "print(X_train['neg']['Erythropoietin'])"
      ]
    },
    {
      "cell_type": "code",
      "metadata": {
        "id": "o-Nsuo9dB0M0",
        "colab_type": "code",
        "colab": {}
      },
      "source": [
        ""
      ],
      "execution_count": null,
      "outputs": []
    }
  ]
}