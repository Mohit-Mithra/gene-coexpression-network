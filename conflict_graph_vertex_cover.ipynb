{
 "cells": [
  {
   "cell_type": "code",
   "execution_count": 122,
   "metadata": {},
   "outputs": [],
   "source": [
    "import numpy as np\n",
    "import networkx as nx"
   ]
  },
  {
   "cell_type": "code",
   "execution_count": 135,
   "metadata": {},
   "outputs": [
    {
     "data": {
      "text/plain": [
       "array([[0, 0, 0, 0, 0, 0, 0, 0, 0, 0, 0, 0, 0, 1, 0, 0, 0, 0, 0, 0, 0, 0,\n",
       "        0, 0, 0, 0, 0, 0, 0, 0],\n",
       "       [0, 0, 0, 0, 0, 0, 0, 0, 0, 0, 0, 0, 0, 0, 0, 0, 0, 0, 0, 0, 0, 0,\n",
       "        0, 0, 0, 0, 0, 0, 0, 1],\n",
       "       [0, 0, 0, 0, 0, 1, 1, 0, 0, 0, 0, 0, 0, 0, 0, 0, 0, 0, 0, 0, 0, 0,\n",
       "        0, 0, 0, 0, 0, 0, 0, 0],\n",
       "       [0, 0, 0, 0, 0, 0, 0, 0, 0, 0, 0, 0, 0, 0, 0, 0, 0, 0, 0, 0, 0, 0,\n",
       "        0, 0, 0, 0, 0, 0, 0, 0],\n",
       "       [0, 0, 0, 0, 0, 0, 0, 0, 0, 0, 0, 0, 0, 0, 0, 0, 0, 0, 0, 0, 0, 0,\n",
       "        0, 0, 0, 0, 1, 0, 0, 0],\n",
       "       [0, 0, 0, 0, 0, 0, 0, 0, 0, 0, 0, 0, 0, 0, 0, 0, 0, 0, 0, 0, 0, 0,\n",
       "        0, 0, 0, 0, 0, 0, 0, 0]])"
      ]
     },
     "execution_count": 135,
     "metadata": {},
     "output_type": "execute_result"
    }
   ],
   "source": [
    "no_of_vertices = 6\n",
    "matrix = (np.random.rand(no_of_vertices, 30) > 0.97) * 1\n",
    "matrix"
   ]
  },
  {
   "cell_type": "code",
   "execution_count": 136,
   "metadata": {
    "scrolled": true
   },
   "outputs": [
    {
     "data": {
      "text/plain": [
       "[[1, 3, 0, 4], [], [4, 0, 1, 5, 2], [2, 5, 0, 4], [2, 5], [2, 3, 0]]"
      ]
     },
     "execution_count": 136,
     "metadata": {},
     "output_type": "execute_result"
    }
   ],
   "source": [
    "graph = []\n",
    "for i in range(no_of_vertices):\n",
    "    temp = list(np.random.choice(no_of_vertices, np.random.randint(no_of_vertices, size=1) , replace=False))\n",
    "    graph.append(temp)\n",
    "    \n",
    "graph"
   ]
  },
  {
   "cell_type": "code",
   "execution_count": null,
   "metadata": {},
   "outputs": [],
   "source": []
  },
  {
   "cell_type": "code",
   "execution_count": 137,
   "metadata": {},
   "outputs": [
    {
     "data": {
      "text/plain": [
       "[[0, 4], [], [4, 0, 1, 5, 2], [2, 5, 0, 4], [2, 5], [2, 3, 0]]"
      ]
     },
     "execution_count": 137,
     "metadata": {},
     "output_type": "execute_result"
    }
   ],
   "source": [
    "#characters = 0...29\n",
    "#taxons = 0....9\n",
    "\n",
    "conflict_graph = []\n",
    "\n",
    "conflict_G = nx.Graph()\n",
    "gamets = [0,0,0,0]\n",
    "for u in range(len(graph)):\n",
    "    temp = []\n",
    "    for v in graph[u]:\n",
    "        u_taxon = matrix[u]\n",
    "        v_taxon = matrix[v]\n",
    "        \n",
    "        for char in range(matrix.shape[1]):\n",
    "            \n",
    "            if(u_taxon[char] == 0 and v_taxon[char] == 0):\n",
    "                gamets[0] = 1\n",
    "            if(u_taxon[char] == 0 and v_taxon[char] == 1):\n",
    "                gamets[1] = 1\n",
    "            if(u_taxon[char] == 1 and v_taxon[char] == 0):\n",
    "                gamets[2] = 1\n",
    "            if(u_taxon[char] == 1 and v_taxon[char] == 1):\n",
    "                gamets[3] = 1\n",
    "        \n",
    "        #print(gamets)\n",
    "        if(np.sum(gamets)) == 4:\n",
    "            temp.append(v)\n",
    "            conflict_G.add_edge(u, v)\n",
    "        \n",
    "            \n",
    "    \n",
    "    conflict_graph.append(temp)\n",
    "    \n",
    "conflict_graph"
   ]
  },
  {
   "cell_type": "code",
   "execution_count": 138,
   "metadata": {},
   "outputs": [
    {
     "name": "stdout",
     "output_type": "stream",
     "text": [
      "6\n",
      "13\n"
     ]
    },
    {
     "data": {
      "text/plain": [
       "EdgeDataView([(0, 0), (0, 4), (0, 2), (0, 3), (0, 5)])"
      ]
     },
     "execution_count": 138,
     "metadata": {},
     "output_type": "execute_result"
    }
   ],
   "source": [
    "print(conflict_G.number_of_nodes())\n",
    "print(conflict_G.number_of_edges())\n",
    "conflict_G.edges(0)"
   ]
  },
  {
   "cell_type": "markdown",
   "metadata": {},
   "source": [
    "# Calculating cardinalty cover vertex"
   ]
  },
  {
   "cell_type": "code",
   "execution_count": 139,
   "metadata": {},
   "outputs": [
    {
     "name": "stdout",
     "output_type": "stream",
     "text": [
      "[0, 1, 2, 3, 5]\n"
     ]
    }
   ],
   "source": [
    "visited = [False] * conflict_G.number_of_nodes()\n",
    "\n",
    "graph_nodes = [i for i in range(conflict_G.number_of_nodes())]\n",
    "\n",
    "for u in graph_nodes:\n",
    "    \n",
    "    #print(conflict_G.edges(u))\n",
    "    if visited[u] == False:\n",
    "        \n",
    "        for v in conflict_G.edges(u):\n",
    "            if visited[v[1]] == False:\n",
    "                #print((u,v[1]), end = \" \")\n",
    "                visited[v[1]] = True\n",
    "                visited[u] = True\n",
    "                break\n",
    "                \n",
    "\n",
    "cardinality_vertex_cover = []\n",
    "for node in graph_nodes:\n",
    "    if visited[node]:\n",
    "        cardinality_vertex_cover.append(node)\n",
    "        \n",
    "print(cardinality_vertex_cover)"
   ]
  },
  {
   "cell_type": "code",
   "execution_count": null,
   "metadata": {},
   "outputs": [],
   "source": []
  }
 ],
 "metadata": {
  "kernelspec": {
   "display_name": "Python 3",
   "language": "python",
   "name": "python3"
  },
  "language_info": {
   "codemirror_mode": {
    "name": "ipython",
    "version": 3
   },
   "file_extension": ".py",
   "mimetype": "text/x-python",
   "name": "python",
   "nbconvert_exporter": "python",
   "pygments_lexer": "ipython3",
   "version": "3.7.3"
  }
 },
 "nbformat": 4,
 "nbformat_minor": 2
}
